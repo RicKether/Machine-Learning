{
 "cells": [
  {
   "cell_type": "code",
   "execution_count": 1,
   "id": "3f698e86-b3ca-4e52-96be-ffdcba696ccf",
   "metadata": {},
   "outputs": [],
   "source": [
    "# MACHINE LEARNING"
   ]
  },
  {
   "cell_type": "code",
   "execution_count": 2,
   "id": "8d4678fa-8991-48f3-95c2-a438b6e87abd",
   "metadata": {},
   "outputs": [],
   "source": [
    "# NAIVE BAYES p1\n",
    "\n",
    "# Obs: algoritmo de aprendizado de máquina probabilístico que é usado para classificação de dados\n",
    "# assume que as características de um objeto são independentes umas das outras. Isso significa que a probabilidade de um objeto\n",
    "# pertencer a uma determinada classe não é afetada pelos valores das outras características. \n",
    "# Essa suposição é considerada ingênua porque nem sempre é verdadeira.\n",
    "# No nosso caso, aplicamos o teorema a partir da função GaussianNB"
   ]
  },
  {
   "cell_type": "code",
   "execution_count": 1,
   "id": "39a37f33-fb89-4525-86ea-82fa71867956",
   "metadata": {},
   "outputs": [],
   "source": [
    "import sklearn\n",
    "import pandas as pd\n",
    "from sklearn.model_selection import train_test_split\n",
    "from sklearn.naive_bayes import GaussianNB\n",
    "from sklearn.preprocessing import LabelEncoder\n",
    "from sklearn.metrics import confusion_matrix, accuracy_score\n",
    "from yellowbrick.classifier import ConfusionMatrix\n",
    "\n",
    "# Obs: \"  LabelEncoder \" -> usada para converter dados categóricos em dados numéricos\n",
    "# Por exemplo, se você tiver um conjunto de dados que contém a coluna Genero com os valores Feminino e Masculino, você pode usar ...\n",
    "# ...a classe LabelEncoder para converter esses valores em números, como 0 e 1"
   ]
  },
  {
   "cell_type": "code",
   "execution_count": 2,
   "id": "4e83d496-ed6a-4a41-8836-8f2c98084a20",
   "metadata": {},
   "outputs": [
    {
     "data": {
      "text/plain": [
       "(1000, 21)"
      ]
     },
     "execution_count": 2,
     "metadata": {},
     "output_type": "execute_result"
    }
   ],
   "source": [
    "# Carregamento da base de dados e defiição das previsões\n",
    "# (variáveis independentes - X) e a classe (variável dependente - y)\n",
    "\n",
    "credito = pd.read_csv('Credit.csv')\n",
    "credito.shape"
   ]
  },
  {
   "cell_type": "code",
   "execution_count": 15,
   "id": "caf503b5-61b5-4e25-bddd-2ebef72d8833",
   "metadata": {},
   "outputs": [
    {
     "data": {
      "text/html": [
       "<div>\n",
       "<style scoped>\n",
       "    .dataframe tbody tr th:only-of-type {\n",
       "        vertical-align: middle;\n",
       "    }\n",
       "\n",
       "    .dataframe tbody tr th {\n",
       "        vertical-align: top;\n",
       "    }\n",
       "\n",
       "    .dataframe thead th {\n",
       "        text-align: right;\n",
       "    }\n",
       "</style>\n",
       "<table border=\"1\" class=\"dataframe\">\n",
       "  <thead>\n",
       "    <tr style=\"text-align: right;\">\n",
       "      <th></th>\n",
       "      <th>checking_status</th>\n",
       "      <th>duration</th>\n",
       "      <th>credit_history</th>\n",
       "      <th>purpose</th>\n",
       "      <th>credit_amount</th>\n",
       "      <th>savings_status</th>\n",
       "      <th>employment</th>\n",
       "      <th>installment_commitment</th>\n",
       "      <th>personal_status</th>\n",
       "      <th>other_parties</th>\n",
       "      <th>...</th>\n",
       "      <th>property_magnitude</th>\n",
       "      <th>age</th>\n",
       "      <th>other_payment_plans</th>\n",
       "      <th>housing</th>\n",
       "      <th>existing_credits</th>\n",
       "      <th>job</th>\n",
       "      <th>num_dependents</th>\n",
       "      <th>own_telephone</th>\n",
       "      <th>foreign_worker</th>\n",
       "      <th>class</th>\n",
       "    </tr>\n",
       "  </thead>\n",
       "  <tbody>\n",
       "    <tr>\n",
       "      <th>0</th>\n",
       "      <td>&lt;0</td>\n",
       "      <td>6</td>\n",
       "      <td>'critical/other existing credit'</td>\n",
       "      <td>radio/tv</td>\n",
       "      <td>1169</td>\n",
       "      <td>'no known savings'</td>\n",
       "      <td>&gt;=7</td>\n",
       "      <td>4</td>\n",
       "      <td>'male single'</td>\n",
       "      <td>none</td>\n",
       "      <td>...</td>\n",
       "      <td>'real estate'</td>\n",
       "      <td>67</td>\n",
       "      <td>none</td>\n",
       "      <td>own</td>\n",
       "      <td>2</td>\n",
       "      <td>skilled</td>\n",
       "      <td>1</td>\n",
       "      <td>yes</td>\n",
       "      <td>yes</td>\n",
       "      <td>good</td>\n",
       "    </tr>\n",
       "    <tr>\n",
       "      <th>1</th>\n",
       "      <td>0&lt;=X&lt;200</td>\n",
       "      <td>48</td>\n",
       "      <td>'existing paid'</td>\n",
       "      <td>radio/tv</td>\n",
       "      <td>5951</td>\n",
       "      <td>&lt;100</td>\n",
       "      <td>1&lt;=X&lt;4</td>\n",
       "      <td>2</td>\n",
       "      <td>'female div/dep/mar'</td>\n",
       "      <td>none</td>\n",
       "      <td>...</td>\n",
       "      <td>'real estate'</td>\n",
       "      <td>22</td>\n",
       "      <td>none</td>\n",
       "      <td>own</td>\n",
       "      <td>1</td>\n",
       "      <td>skilled</td>\n",
       "      <td>1</td>\n",
       "      <td>none</td>\n",
       "      <td>yes</td>\n",
       "      <td>bad</td>\n",
       "    </tr>\n",
       "    <tr>\n",
       "      <th>2</th>\n",
       "      <td>'no checking'</td>\n",
       "      <td>12</td>\n",
       "      <td>'critical/other existing credit'</td>\n",
       "      <td>education</td>\n",
       "      <td>2096</td>\n",
       "      <td>&lt;100</td>\n",
       "      <td>4&lt;=X&lt;7</td>\n",
       "      <td>2</td>\n",
       "      <td>'male single'</td>\n",
       "      <td>none</td>\n",
       "      <td>...</td>\n",
       "      <td>'real estate'</td>\n",
       "      <td>49</td>\n",
       "      <td>none</td>\n",
       "      <td>own</td>\n",
       "      <td>1</td>\n",
       "      <td>'unskilled resident'</td>\n",
       "      <td>2</td>\n",
       "      <td>none</td>\n",
       "      <td>yes</td>\n",
       "      <td>good</td>\n",
       "    </tr>\n",
       "    <tr>\n",
       "      <th>3</th>\n",
       "      <td>&lt;0</td>\n",
       "      <td>42</td>\n",
       "      <td>'existing paid'</td>\n",
       "      <td>furniture/equipment</td>\n",
       "      <td>7882</td>\n",
       "      <td>&lt;100</td>\n",
       "      <td>4&lt;=X&lt;7</td>\n",
       "      <td>2</td>\n",
       "      <td>'male single'</td>\n",
       "      <td>guarantor</td>\n",
       "      <td>...</td>\n",
       "      <td>'life insurance'</td>\n",
       "      <td>45</td>\n",
       "      <td>none</td>\n",
       "      <td>'for free'</td>\n",
       "      <td>1</td>\n",
       "      <td>skilled</td>\n",
       "      <td>2</td>\n",
       "      <td>none</td>\n",
       "      <td>yes</td>\n",
       "      <td>good</td>\n",
       "    </tr>\n",
       "    <tr>\n",
       "      <th>4</th>\n",
       "      <td>&lt;0</td>\n",
       "      <td>24</td>\n",
       "      <td>'delayed previously'</td>\n",
       "      <td>'new car'</td>\n",
       "      <td>4870</td>\n",
       "      <td>&lt;100</td>\n",
       "      <td>1&lt;=X&lt;4</td>\n",
       "      <td>3</td>\n",
       "      <td>'male single'</td>\n",
       "      <td>none</td>\n",
       "      <td>...</td>\n",
       "      <td>'no known property'</td>\n",
       "      <td>53</td>\n",
       "      <td>none</td>\n",
       "      <td>'for free'</td>\n",
       "      <td>2</td>\n",
       "      <td>skilled</td>\n",
       "      <td>2</td>\n",
       "      <td>none</td>\n",
       "      <td>yes</td>\n",
       "      <td>bad</td>\n",
       "    </tr>\n",
       "  </tbody>\n",
       "</table>\n",
       "<p>5 rows × 21 columns</p>\n",
       "</div>"
      ],
      "text/plain": [
       "  checking_status  duration                    credit_history  \\\n",
       "0              <0         6  'critical/other existing credit'   \n",
       "1        0<=X<200        48                   'existing paid'   \n",
       "2   'no checking'        12  'critical/other existing credit'   \n",
       "3              <0        42                   'existing paid'   \n",
       "4              <0        24              'delayed previously'   \n",
       "\n",
       "               purpose  credit_amount      savings_status employment  \\\n",
       "0             radio/tv           1169  'no known savings'        >=7   \n",
       "1             radio/tv           5951                <100     1<=X<4   \n",
       "2            education           2096                <100     4<=X<7   \n",
       "3  furniture/equipment           7882                <100     4<=X<7   \n",
       "4            'new car'           4870                <100     1<=X<4   \n",
       "\n",
       "   installment_commitment       personal_status other_parties  ...  \\\n",
       "0                       4         'male single'          none  ...   \n",
       "1                       2  'female div/dep/mar'          none  ...   \n",
       "2                       2         'male single'          none  ...   \n",
       "3                       2         'male single'     guarantor  ...   \n",
       "4                       3         'male single'          none  ...   \n",
       "\n",
       "    property_magnitude age  other_payment_plans     housing existing_credits  \\\n",
       "0        'real estate'  67                 none         own                2   \n",
       "1        'real estate'  22                 none         own                1   \n",
       "2        'real estate'  49                 none         own                1   \n",
       "3     'life insurance'  45                 none  'for free'                1   \n",
       "4  'no known property'  53                 none  'for free'                2   \n",
       "\n",
       "                    job num_dependents  own_telephone foreign_worker class  \n",
       "0               skilled              1            yes            yes  good  \n",
       "1               skilled              1           none            yes   bad  \n",
       "2  'unskilled resident'              2           none            yes  good  \n",
       "3               skilled              2           none            yes  good  \n",
       "4               skilled              2           none            yes   bad  \n",
       "\n",
       "[5 rows x 21 columns]"
      ]
     },
     "execution_count": 15,
     "metadata": {},
     "output_type": "execute_result"
    }
   ],
   "source": [
    "credito.head()"
   ]
  },
  {
   "cell_type": "code",
   "execution_count": 4,
   "id": "d3964304-f7f7-4418-9baf-3a55427ed617",
   "metadata": {},
   "outputs": [],
   "source": [
    "# Formato de matriz\n",
    "# Gerar objetos independentes e dependente\n",
    "\n",
    "\n",
    "previsores = credito.iloc[:, 0:20].values\n",
    "classe = credito.iloc[:, 20].values\n",
    "\n",
    "# Obs: \" previsores \", objeto para variáveis independentes e \" classe \" para dependente, ou seja, o que se quer descobrir"
   ]
  },
  {
   "cell_type": "code",
   "execution_count": 5,
   "id": "611d8210-4f52-4bf5-934f-257ee066830f",
   "metadata": {},
   "outputs": [
    {
     "data": {
      "text/plain": [
       "array(['<0', 6, \"'critical/other existing credit'\", 'radio/tv', 1169,\n",
       "       \"'no known savings'\", '>=7', 4, \"'male single'\", 'none', 4,\n",
       "       \"'real estate'\", 67, 'none', 'own', 2, 'skilled', 1, 'yes', 'yes'],\n",
       "      dtype=object)"
      ]
     },
     "execution_count": 5,
     "metadata": {},
     "output_type": "execute_result"
    }
   ],
   "source": [
    "previsores[0]"
   ]
  },
  {
   "cell_type": "code",
   "execution_count": 20,
   "id": "8548c313-49a8-4226-b959-34c1e667f5ce",
   "metadata": {},
   "outputs": [],
   "source": [
    "# Transformação dos atributos categóricos em atributos numéricos, passando o índice de cada coluna categórica\n",
    "# Precisamos criar um objeto para cada atributo categórico, pois na sequência, vamos executar o processo de ...\n",
    "# ... encoding novamente para o registro de teste\n",
    "# Se forem utilizados objetos diferentes, o número atribuído a cada valor poderá ser diferente...\n",
    "# O que deixará o teste inconsistente\n",
    "\n",
    "\n",
    "labelencoder1 = LabelEncoder()\n",
    "previsores[:, 0] = labelencoder1.fit_transform(previsores[:, 0])\n",
    "\n",
    "labelencoder2 = LabelEncoder()\n",
    "previsores[:, 2] = labelencoder2.fit_transform(previsores[:, 2])\n",
    "\n",
    "labelencoder3 = LabelEncoder()\n",
    "previsores[:, 3] = labelencoder3.fit_transform(previsores[:, 3])\n",
    "\n",
    "labelencoder4 = LabelEncoder()\n",
    "previsores[:, 5] = labelencoder4.fit_transform(previsores[:, 5])\n",
    "\n",
    "labelencoder5 = LabelEncoder()\n",
    "previsores[:, 6] = labelencoder5.fit_transform(previsores[:, 6])\n",
    "\n",
    "labelencoder6 = LabelEncoder()\n",
    "previsores[:, 8] = labelencoder6.fit_transform(previsores[:, 8])\n",
    "\n",
    "labelencoder7 = LabelEncoder()\n",
    "previsores[:, 9] = labelencoder7.fit_transform(previsores[:, 9])\n",
    "\n",
    "labelencoder8 = LabelEncoder()\n",
    "previsores[:, 11] = labelencoder8.fit_transform(previsores[:, 11])\n",
    "\n",
    "labelencoder9 = LabelEncoder()\n",
    "previsores[:, 13] = labelencoder9.fit_transform(previsores[:, 13])\n",
    "\n",
    "labelencoder10 = LabelEncoder()\n",
    "previsores[:, 14] = labelencoder10.fit_transform(previsores[:, 14])\n",
    "\n",
    "labelencoder11 = LabelEncoder()\n",
    "previsores[:, 16] = labelencoder11.fit_transform(previsores[:, 16])\n",
    "\n",
    "labelencoder12 = LabelEncoder()\n",
    "previsores[:, 18] = labelencoder12.fit_transform(previsores[:, 18])\n",
    "\n",
    "labelencoder13 = LabelEncoder()\n",
    "previsores[:, 19] = labelencoder13.fit_transform(previsores[:, 19])\n",
    "\n"
   ]
  },
  {
   "cell_type": "code",
   "execution_count": 22,
   "id": "71aa7aea-14a9-4f7a-8fb1-e509427e4494",
   "metadata": {},
   "outputs": [
    {
     "data": {
      "text/plain": [
       "array([[2, 36, 3, ..., 1, 1, 1],\n",
       "       [0, 9, 3, ..., 2, 0, 0],\n",
       "       [0, 18, 3, ..., 1, 1, 1],\n",
       "       ...,\n",
       "       [0, 24, 1, ..., 1, 0, 1],\n",
       "       [1, 27, 4, ..., 1, 1, 1],\n",
       "       [1, 12, 3, ..., 1, 0, 1]], dtype=object)"
      ]
     },
     "execution_count": 22,
     "metadata": {},
     "output_type": "execute_result"
    }
   ],
   "source": [
    "# Divisão da base de dados entre treino e teste (30% para teste, e 70% para treino)\n",
    "\n",
    "\n",
    "X_train, X_test, y_train, y_test = train_test_split(previsores,\n",
    "                                                   classe,\n",
    "                                                   test_size = 0.3,\n",
    "                                                   random_state = 0)\n",
    "\n",
    "X_test\n",
    "\n",
    "\n",
    "# Obs: \"  random_state \" é usado para controlar a aleatoriedade do processo de divisão de dados. \n",
    "# Isso pode ser útil para garantir que os conjuntos de treinamento e teste sejam representativos dos dados de origem\n",
    "# o valor de \" random_state \" é um inteiro que é usado como semente para o gerador de números aleatórios. \n",
    "# Se você definir o mesmo valor para o parâmetro random_state, o processo de divisão de dados será o mesmo sempre que você executar o código."
   ]
  },
  {
   "cell_type": "code",
   "execution_count": null,
   "id": "2027f1b2-6fe6-4344-b614-eb348432e3d1",
   "metadata": {},
   "outputs": [],
   "source": [
    "# Criação e treinamento do modelo (geração de tabela de probabilidades)\n",
    "\n",
    "\n",
    "naive_bayes = GaussianNB()\n",
    "naive_bayes.fit(X_train, y_train)"
   ]
  },
  {
   "cell_type": "code",
   "execution_count": null,
   "id": "c3e2acb6-2438-4f2c-a331-383706328ae3",
   "metadata": {},
   "outputs": [],
   "source": [
    "# Previsões utilizando os registros de teste\n",
    "\n",
    "\n",
    "previsoes = naive_bayes.predict(X_test)\n",
    "previsoes"
   ]
  },
  {
   "cell_type": "code",
   "execution_count": 25,
   "id": "e5cf2f60-a253-460e-b127-a49980431172",
   "metadata": {},
   "outputs": [
    {
     "data": {
      "text/plain": [
       "array([[ 41,  45],\n",
       "       [ 42, 172]], dtype=int64)"
      ]
     },
     "execution_count": 25,
     "metadata": {},
     "output_type": "execute_result"
    }
   ],
   "source": [
    "# Geração da matriz de confusão\n",
    "\n",
    "\n",
    "confusao = confusion_matrix(y_test, previsoes)\n",
    "confusao\n",
    "\n",
    "# Obs: \"  Matriz de Confusão \" -> "
   ]
  },
  {
   "cell_type": "code",
   "execution_count": 27,
   "id": "3d206999-5dbb-4a8d-8d8a-6c64e98e3fc7",
   "metadata": {},
   "outputs": [
    {
     "data": {
      "text/plain": [
       "0.71"
      ]
     },
     "execution_count": 27,
     "metadata": {},
     "output_type": "execute_result"
    }
   ],
   "source": [
    "# Descobrir taxa de acerto do modelo\n",
    "\n",
    "\n",
    "taxa_acerto = accuracy_score(y_test, previsoes)\n",
    "\n",
    "\n",
    "# Obs: taxa de erro seria equivalente a: (taxa_erro = 1 - taxa_acerto)"
   ]
  },
  {
   "cell_type": "code",
   "execution_count": 29,
   "id": "b4926927-7577-4d95-b7bd-64bfbc1acdc5",
   "metadata": {},
   "outputs": [
    {
     "data": {
      "image/png": "[encoded data removed]",
      "text/plain": [
       "<Figure size 800x550 with 1 Axes>"
      ]
     },
     "metadata": {},
     "output_type": "display_data"
    },
    {
     "data": {
      "text/plain": [
       "<Axes: title={'center': 'GaussianNB Confusion Matrix'}, xlabel='Predicted Class', ylabel='True Class'>"
      ]
     },
     "execution_count": 29,
     "metadata": {},
     "output_type": "execute_result"
    }
   ],
   "source": [
    "# Visualização da matriz de confusão de forma gráfica\n",
    "# Obs: Warning interno da bibl. yellowbrick, já está na última versão (sem solução p/ o warning no momento)\n",
    "\n",
    "\n",
    "v = ConfusionMatrix(GaussianNB())\n",
    "v.fit(X_train, y_train)\n",
    "v.score(X_test, y_test)\n",
    "v.poof()"
   ]
  },
  {
   "cell_type": "code",
   "execution_count": 1,
   "id": "ac084f83-abb3-4add-b0b0-c2baeae4a81c",
   "metadata": {},
   "outputs": [
    {
     "data": {
      "text/plain": [
       "(1, 20)"
      ]
     },
     "execution_count": 1,
     "metadata": {},
     "output_type": "execute_result"
    }
   ],
   "source": [
    "# Previsão com novo registro, transformando os atributos categóricos em numéricos\n",
    "\n",
    "import pandas as pd\n",
    "novo_credito = pd.read_csv('NovoCredit.csv')\n",
    "novo_credito.shape\n"
   ]
  },
  {
   "cell_type": "code",
   "execution_count": 2,
   "id": "65473ed7-3233-462b-9918-b2e59d0cd278",
   "metadata": {},
   "outputs": [
    {
     "data": {
      "text/html": [
       "<div>\n",
       "<style scoped>\n",
       "    .dataframe tbody tr th:only-of-type {\n",
       "        vertical-align: middle;\n",
       "    }\n",
       "\n",
       "    .dataframe tbody tr th {\n",
       "        vertical-align: top;\n",
       "    }\n",
       "\n",
       "    .dataframe thead th {\n",
       "        text-align: right;\n",
       "    }\n",
       "</style>\n",
       "<table border=\"1\" class=\"dataframe\">\n",
       "  <thead>\n",
       "    <tr style=\"text-align: right;\">\n",
       "      <th></th>\n",
       "      <th>checking_status</th>\n",
       "      <th>duration</th>\n",
       "      <th>credit_history</th>\n",
       "      <th>purpose</th>\n",
       "      <th>credit_amount</th>\n",
       "      <th>savings_status</th>\n",
       "      <th>employment</th>\n",
       "      <th>installment_commitment</th>\n",
       "      <th>personal_status</th>\n",
       "      <th>other_parties</th>\n",
       "      <th>residence_since</th>\n",
       "      <th>property_magnitude</th>\n",
       "      <th>age</th>\n",
       "      <th>other_payment_plans</th>\n",
       "      <th>housing</th>\n",
       "      <th>existing_credits</th>\n",
       "      <th>job</th>\n",
       "      <th>num_dependents</th>\n",
       "      <th>own_telephone</th>\n",
       "      <th>foreign_worker</th>\n",
       "    </tr>\n",
       "  </thead>\n",
       "  <tbody>\n",
       "    <tr>\n",
       "      <th>0</th>\n",
       "      <td>'no checking'</td>\n",
       "      <td>12</td>\n",
       "      <td>'existing paid'</td>\n",
       "      <td>radio/tv</td>\n",
       "      <td>804</td>\n",
       "      <td>&lt;100</td>\n",
       "      <td>&gt;=7</td>\n",
       "      <td>4</td>\n",
       "      <td>'male single'</td>\n",
       "      <td>none</td>\n",
       "      <td>4</td>\n",
       "      <td>car</td>\n",
       "      <td>38</td>\n",
       "      <td>none</td>\n",
       "      <td>own</td>\n",
       "      <td>1</td>\n",
       "      <td>skilled</td>\n",
       "      <td>1</td>\n",
       "      <td>none</td>\n",
       "      <td>yes</td>\n",
       "    </tr>\n",
       "  </tbody>\n",
       "</table>\n",
       "</div>"
      ],
      "text/plain": [
       "  checking_status  duration   credit_history   purpose  credit_amount  \\\n",
       "0   'no checking'        12  'existing paid'  radio/tv            804   \n",
       "\n",
       "  savings_status employment  installment_commitment personal_status  \\\n",
       "0           <100        >=7                       4   'male single'   \n",
       "\n",
       "  other_parties  residence_since property_magnitude  age other_payment_plans  \\\n",
       "0          none                4                car   38                none   \n",
       "\n",
       "  housing  existing_credits      job  num_dependents own_telephone  \\\n",
       "0     own                 1  skilled               1          none   \n",
       "\n",
       "  foreign_worker  \n",
       "0            yes  "
      ]
     },
     "execution_count": 2,
     "metadata": {},
     "output_type": "execute_result"
    }
   ],
   "source": [
    "novo_credito"
   ]
  },
  {
   "cell_type": "code",
   "execution_count": 35,
   "id": "9674d04d-5484-4e2a-a81c-70536fee7c02",
   "metadata": {},
   "outputs": [],
   "source": [
    "# Usamos o mesmo objeto que foi criado antes para manter o padrão de dados\n",
    "# Chamamos somente o método \"transform\", pois a adaptação aos dados já foi feita anteriormente\n",
    "\n",
    "\n",
    "novo_credito = novo_credito.iloc[:,0:20].values\n",
    "novo_credito[:, 0] = labelencoder1.transform(novo_credito[:, 0])\n",
    "novo_credito[:, 2] = labelencoder2.transform(novo_credito[:, 2])\n",
    "novo_credito[:, 3] = labelencoder3.transform(novo_credito[:, 3])\n",
    "novo_credito[:, 5] = labelencoder4.transform(novo_credito[:, 5])\n",
    "novo_credito[:, 6] = labelencoder5.transform(novo_credito[:, 6])\n",
    "novo_credito[:, 8] = labelencoder6.transform(novo_credito[:, 8])\n",
    "novo_credito[:, 9] = labelencoder7.transform(novo_credito[:, 9])\n",
    "novo_credito[:, 11] = labelencoder8.transform(novo_credito[:, 11])\n",
    "novo_credito[:, 13] = labelencoder9.transform(novo_credito[:, 13])\n",
    "novo_credito[:, 14] = labelencoder10.transform(novo_credito[:, 14])\n",
    "novo_credito[:, 16] = labelencoder11.transform(novo_credito[:, 16])\n",
    "novo_credito[:, 18] = labelencoder12.transform(novo_credito[:, 18])\n",
    "novo_credito[:, 19] = labelencoder13.transform(novo_credito[:, 19])\n"
   ]
  },
  {
   "cell_type": "code",
   "execution_count": 37,
   "id": "a27d6708-5b5e-4b9e-811b-120b056d6617",
   "metadata": {},
   "outputs": [
    {
     "data": {
      "text/plain": [
       "array(['good'], dtype='<U4')"
      ]
     },
     "execution_count": 37,
     "metadata": {},
     "output_type": "execute_result"
    }
   ],
   "source": [
    "# Aplicando o modelo, e testando uma única linha para saber se o cliente é bom ou não\n",
    "\n",
    "\n",
    "naive_bayes.predict(novo_credito)"
   ]
  },
  {
   "cell_type": "code",
   "execution_count": 1,
   "id": "33c9a8c0-3538-4fcd-9017-9f05df972b63",
   "metadata": {},
   "outputs": [],
   "source": [
    "# ÁRVORES DE DECISÃO p2"
   ]
  },
  {
   "cell_type": "code",
   "execution_count": null,
   "id": "5eaa1c42-b19c-483b-95e1-130667a74731",
   "metadata": {},
   "outputs": [],
   "source": [
    "# Árvores de decisão são um tipo de algoritmo de aprendizado de máquina supervisionado que pode ser usado para classificação ou regressão. \n",
    "# Em uma árvore de decisão, os dados são divididos em subconjuntos com base em um determinado critério, até que cada subconjunto seja homogêneo. \n",
    "# O critério de divisão geralmente é a redução da entropia ou do erro quadrático médio\n",
    "\n",
    "# A classe DecisionTreeClassifier tem os seguintes argumentos principais:\n",
    "\n",
    "# criterion: O critério de divisão a ser usado. Os valores possíveis são entropy e gini.\n",
    "# max_depth: A profundidade máxima da árvore.\n",
    "# min_samples_split: O número mínimo de amostras necessárias para dividir um nó.\n",
    "# min_samples_leaf: O número mínimo de amostras necessárias para um nó folha.\n",
    "\n",
    "# A classe DecisionTreeClassifier também tem os seguintes métodos principais:\n",
    "\n",
    "# fit(): Treina a árvore de decisão nos dados de treinamento.\n",
    "# predict(): Faz previsões para novos dados.\n",
    "# predict_proba(): Retorna as probabilidades de cada classe para novos dados."
   ]
  },
  {
   "cell_type": "code",
   "execution_count": 2,
   "id": "4a51e1fb-3968-4077-8ef0-774d16eb7324",
   "metadata": {},
   "outputs": [],
   "source": [
    "# Importações\n",
    "\n",
    "import pandas as pd\n",
    "from sklearn.model_selection import train_test_split\n",
    "from sklearn.preprocessing import LabelEncoder\n",
    "from sklearn.metrics import confusion_matrix, accuracy_score\n",
    "from sklearn.tree import DecisionTreeClassifier\n",
    "# import graphviz\n",
    "from sklearn.tree import export_graphviz\n",
    "\n",
    "# conda install -c conda-forge python-graphviz (para evitar warnings)"
   ]
  },
  {
   "cell_type": "code",
   "execution_count": 3,
   "id": "b5fac696-ba5a-4e52-b316-2e340fd1282a",
   "metadata": {},
   "outputs": [
    {
     "data": {
      "text/html": [
       "<div>\n",
       "<style scoped>\n",
       "    .dataframe tbody tr th:only-of-type {\n",
       "        vertical-align: middle;\n",
       "    }\n",
       "\n",
       "    .dataframe tbody tr th {\n",
       "        vertical-align: top;\n",
       "    }\n",
       "\n",
       "    .dataframe thead th {\n",
       "        text-align: right;\n",
       "    }\n",
       "</style>\n",
       "<table border=\"1\" class=\"dataframe\">\n",
       "  <thead>\n",
       "    <tr style=\"text-align: right;\">\n",
       "      <th></th>\n",
       "      <th>checking_status</th>\n",
       "      <th>duration</th>\n",
       "      <th>credit_history</th>\n",
       "      <th>purpose</th>\n",
       "      <th>credit_amount</th>\n",
       "      <th>savings_status</th>\n",
       "      <th>employment</th>\n",
       "      <th>installment_commitment</th>\n",
       "      <th>personal_status</th>\n",
       "      <th>other_parties</th>\n",
       "      <th>...</th>\n",
       "      <th>property_magnitude</th>\n",
       "      <th>age</th>\n",
       "      <th>other_payment_plans</th>\n",
       "      <th>housing</th>\n",
       "      <th>existing_credits</th>\n",
       "      <th>job</th>\n",
       "      <th>num_dependents</th>\n",
       "      <th>own_telephone</th>\n",
       "      <th>foreign_worker</th>\n",
       "      <th>class</th>\n",
       "    </tr>\n",
       "  </thead>\n",
       "  <tbody>\n",
       "    <tr>\n",
       "      <th>0</th>\n",
       "      <td>&lt;0</td>\n",
       "      <td>6</td>\n",
       "      <td>'critical/other existing credit'</td>\n",
       "      <td>radio/tv</td>\n",
       "      <td>1169</td>\n",
       "      <td>'no known savings'</td>\n",
       "      <td>&gt;=7</td>\n",
       "      <td>4</td>\n",
       "      <td>'male single'</td>\n",
       "      <td>none</td>\n",
       "      <td>...</td>\n",
       "      <td>'real estate'</td>\n",
       "      <td>67</td>\n",
       "      <td>none</td>\n",
       "      <td>own</td>\n",
       "      <td>2</td>\n",
       "      <td>skilled</td>\n",
       "      <td>1</td>\n",
       "      <td>yes</td>\n",
       "      <td>yes</td>\n",
       "      <td>good</td>\n",
       "    </tr>\n",
       "    <tr>\n",
       "      <th>1</th>\n",
       "      <td>0&lt;=X&lt;200</td>\n",
       "      <td>48</td>\n",
       "      <td>'existing paid'</td>\n",
       "      <td>radio/tv</td>\n",
       "      <td>5951</td>\n",
       "      <td>&lt;100</td>\n",
       "      <td>1&lt;=X&lt;4</td>\n",
       "      <td>2</td>\n",
       "      <td>'female div/dep/mar'</td>\n",
       "      <td>none</td>\n",
       "      <td>...</td>\n",
       "      <td>'real estate'</td>\n",
       "      <td>22</td>\n",
       "      <td>none</td>\n",
       "      <td>own</td>\n",
       "      <td>1</td>\n",
       "      <td>skilled</td>\n",
       "      <td>1</td>\n",
       "      <td>none</td>\n",
       "      <td>yes</td>\n",
       "      <td>bad</td>\n",
       "    </tr>\n",
       "    <tr>\n",
       "      <th>2</th>\n",
       "      <td>'no checking'</td>\n",
       "      <td>12</td>\n",
       "      <td>'critical/other existing credit'</td>\n",
       "      <td>education</td>\n",
       "      <td>2096</td>\n",
       "      <td>&lt;100</td>\n",
       "      <td>4&lt;=X&lt;7</td>\n",
       "      <td>2</td>\n",
       "      <td>'male single'</td>\n",
       "      <td>none</td>\n",
       "      <td>...</td>\n",
       "      <td>'real estate'</td>\n",
       "      <td>49</td>\n",
       "      <td>none</td>\n",
       "      <td>own</td>\n",
       "      <td>1</td>\n",
       "      <td>'unskilled resident'</td>\n",
       "      <td>2</td>\n",
       "      <td>none</td>\n",
       "      <td>yes</td>\n",
       "      <td>good</td>\n",
       "    </tr>\n",
       "    <tr>\n",
       "      <th>3</th>\n",
       "      <td>&lt;0</td>\n",
       "      <td>42</td>\n",
       "      <td>'existing paid'</td>\n",
       "      <td>furniture/equipment</td>\n",
       "      <td>7882</td>\n",
       "      <td>&lt;100</td>\n",
       "      <td>4&lt;=X&lt;7</td>\n",
       "      <td>2</td>\n",
       "      <td>'male single'</td>\n",
       "      <td>guarantor</td>\n",
       "      <td>...</td>\n",
       "      <td>'life insurance'</td>\n",
       "      <td>45</td>\n",
       "      <td>none</td>\n",
       "      <td>'for free'</td>\n",
       "      <td>1</td>\n",
       "      <td>skilled</td>\n",
       "      <td>2</td>\n",
       "      <td>none</td>\n",
       "      <td>yes</td>\n",
       "      <td>good</td>\n",
       "    </tr>\n",
       "    <tr>\n",
       "      <th>4</th>\n",
       "      <td>&lt;0</td>\n",
       "      <td>24</td>\n",
       "      <td>'delayed previously'</td>\n",
       "      <td>'new car'</td>\n",
       "      <td>4870</td>\n",
       "      <td>&lt;100</td>\n",
       "      <td>1&lt;=X&lt;4</td>\n",
       "      <td>3</td>\n",
       "      <td>'male single'</td>\n",
       "      <td>none</td>\n",
       "      <td>...</td>\n",
       "      <td>'no known property'</td>\n",
       "      <td>53</td>\n",
       "      <td>none</td>\n",
       "      <td>'for free'</td>\n",
       "      <td>2</td>\n",
       "      <td>skilled</td>\n",
       "      <td>2</td>\n",
       "      <td>none</td>\n",
       "      <td>yes</td>\n",
       "      <td>bad</td>\n",
       "    </tr>\n",
       "  </tbody>\n",
       "</table>\n",
       "<p>5 rows × 21 columns</p>\n",
       "</div>"
      ],
      "text/plain": [
       "  checking_status  duration                    credit_history  \\\n",
       "0              <0         6  'critical/other existing credit'   \n",
       "1        0<=X<200        48                   'existing paid'   \n",
       "2   'no checking'        12  'critical/other existing credit'   \n",
       "3              <0        42                   'existing paid'   \n",
       "4              <0        24              'delayed previously'   \n",
       "\n",
       "               purpose  credit_amount      savings_status employment  \\\n",
       "0             radio/tv           1169  'no known savings'        >=7   \n",
       "1             radio/tv           5951                <100     1<=X<4   \n",
       "2            education           2096                <100     4<=X<7   \n",
       "3  furniture/equipment           7882                <100     4<=X<7   \n",
       "4            'new car'           4870                <100     1<=X<4   \n",
       "\n",
       "   installment_commitment       personal_status other_parties  ...  \\\n",
       "0                       4         'male single'          none  ...   \n",
       "1                       2  'female div/dep/mar'          none  ...   \n",
       "2                       2         'male single'          none  ...   \n",
       "3                       2         'male single'     guarantor  ...   \n",
       "4                       3         'male single'          none  ...   \n",
       "\n",
       "    property_magnitude age  other_payment_plans     housing existing_credits  \\\n",
       "0        'real estate'  67                 none         own                2   \n",
       "1        'real estate'  22                 none         own                1   \n",
       "2        'real estate'  49                 none         own                1   \n",
       "3     'life insurance'  45                 none  'for free'                1   \n",
       "4  'no known property'  53                 none  'for free'                2   \n",
       "\n",
       "                    job num_dependents  own_telephone foreign_worker class  \n",
       "0               skilled              1            yes            yes  good  \n",
       "1               skilled              1           none            yes   bad  \n",
       "2  'unskilled resident'              2           none            yes  good  \n",
       "3               skilled              2           none            yes  good  \n",
       "4               skilled              2           none            yes   bad  \n",
       "\n",
       "[5 rows x 21 columns]"
      ]
     },
     "execution_count": 3,
     "metadata": {},
     "output_type": "execute_result"
    }
   ],
   "source": [
    "# Carregamento da base de dados e definição dos previsores (variáveis independentes - )\n",
    "# ... e classe(variável dependente - y)\n",
    "\n",
    "credito = pd.read_csv('Credit.csv')\n",
    "credito.head()"
   ]
  },
  {
   "cell_type": "code",
   "execution_count": 4,
   "id": "e9f2e6fb-a321-4b20-be47-72646c6e9eb0",
   "metadata": {},
   "outputs": [],
   "source": [
    "# definição dos previsores (variáveis independentes - x) e classe (variável dependente - y)\n",
    "\n",
    "\n",
    "previsores = credito.iloc[:, 0:20].values\n",
    "classe = credito.iloc[:, 20].values"
   ]
  },
  {
   "cell_type": "code",
   "execution_count": 5,
   "id": "a110821f-8252-4fd8-a7a8-c8563cd06b60",
   "metadata": {},
   "outputs": [],
   "source": [
    "# Conversão dos atributos categóricos para atributos numéricos \n",
    "\n",
    "\n",
    "labelencoder = LabelEncoder()\n",
    "\n",
    "previsores[:, 0] = labelencoder.fit_transform(previsores[:, 0])\n",
    "previsores[:, 2] = labelencoder.fit_transform(previsores[:, 2])\n",
    "previsores[:, 3] = labelencoder.fit_transform(previsores[:, 3])\n",
    "previsores[:, 5] = labelencoder.fit_transform(previsores[:, 5])\n",
    "previsores[:, 6] = labelencoder.fit_transform(previsores[:, 6])\n",
    "previsores[:, 8] = labelencoder.fit_transform(previsores[:, 8])\n",
    "previsores[:, 9] = labelencoder.fit_transform(previsores[:, 9])\n",
    "previsores[:, 11] = labelencoder.fit_transform(previsores[:, 11])\n",
    "previsores[:, 13] = labelencoder.fit_transform(previsores[:, 13])\n",
    "previsores[:, 14] = labelencoder.fit_transform(previsores[:, 14])\n",
    "previsores[:, 16] = labelencoder.fit_transform(previsores[:, 16])\n",
    "previsores[:, 18] = labelencoder.fit_transform(previsores[:, 18])\n",
    "previsores[:, 19] = labelencoder.fit_transform(previsores[:, 19])"
   ]
  },
  {
   "cell_type": "code",
   "execution_count": 6,
   "id": "8a0a46a9-8200-4a56-9e57-bda9db73b544",
   "metadata": {},
   "outputs": [],
   "source": [
    "# Divisão da base de dados entre treinamento e teste\n",
    "# 30 % dos dados para teste e 70% dos dados para treino\n",
    "\n",
    "\n",
    "X_train, X_test, y_train, y_test = train_test_split(previsores, classe, \n",
    "                                                   test_size=0.3, random_state=0)"
   ]
  },
  {
   "cell_type": "code",
   "execution_count": null,
   "id": "6743ba31-d274-4b11-8f5a-c4eb8b9ac7fb",
   "metadata": {},
   "outputs": [],
   "source": [
    "# Criação e treinamento do modelo\n",
    "\n",
    "\n",
    "arvore = DecisionTreeClassifier()\n",
    "arvore.fit(X_train, y_train)"
   ]
  },
  {
   "cell_type": "code",
   "execution_count": 18,
   "id": "18e12b9b-e368-4f6f-9e04-b341a8b1e2e1",
   "metadata": {},
   "outputs": [],
   "source": [
    "# Exportação da árvore de decisão para o formato .dot, para posterior visualização\n",
    "\n",
    "\n",
    "export_graphviz(arvore, out_file = 'tree.dot')"
   ]
  },
  {
   "cell_type": "code",
   "execution_count": null,
   "id": "d941ba43-1e71-4e33-8acf-cb3456e2ec6d",
   "metadata": {},
   "outputs": [],
   "source": [
    "# Obtenção das previsões\n",
    "\n",
    "\n",
    "previsoes = arvore.predict(X_test)\n",
    "previsoes"
   ]
  },
  {
   "cell_type": "code",
   "execution_count": 11,
   "id": "6a413c62-9087-42ad-b091-581f00bc8eb5",
   "metadata": {},
   "outputs": [
    {
     "data": {
      "text/plain": [
       "array([[ 44,  42],\n",
       "       [ 50, 164]], dtype=int64)"
      ]
     },
     "execution_count": 11,
     "metadata": {},
     "output_type": "execute_result"
    }
   ],
   "source": [
    "# Matriz de confusão\n",
    "\n",
    "\n",
    "confusao = confusion_matrix(y_test, previsoes)\n",
    "confusao\n",
    "# confusao = confusion_matrix(y_train, previsoes)"
   ]
  },
  {
   "cell_type": "code",
   "execution_count": 12,
   "id": "821e892b-71f6-4207-8fdd-4fa1d24b7779",
   "metadata": {},
   "outputs": [
    {
     "data": {
      "text/plain": [
       "0.6933333333333334"
      ]
     },
     "execution_count": 12,
     "metadata": {},
     "output_type": "execute_result"
    }
   ],
   "source": [
    "# Taxa de acerto\n",
    "\n",
    "\n",
    "taxa_acerto = accuracy_score(y_test, previsoes)\n",
    "taxa_acerto"
   ]
  },
  {
   "cell_type": "code",
   "execution_count": 1,
   "id": "219c332c-3fda-4c0d-8cc3-dc7f26adc624",
   "metadata": {},
   "outputs": [],
   "source": [
    "# Obs: link para visualizar arquivo de árvore gerado:\n",
    "# tree.dot\n",
    "\n",
    "# webgraphviz.com"
   ]
  },
  {
   "cell_type": "code",
   "execution_count": 2,
   "id": "906c143f-823e-46e4-9d46-95e7e9c07567",
   "metadata": {},
   "outputs": [],
   "source": [
    "# SELEÇÃO DE ATRIBUTOS, p3"
   ]
  },
  {
   "cell_type": "code",
   "execution_count": 1,
   "id": "cc8891d9-1667-45d1-9710-4b5bd5056d59",
   "metadata": {},
   "outputs": [],
   "source": [
    "# Importação das bibliotecas\n",
    "\n",
    "import pandas as pd\n",
    "from sklearn.model_selection import train_test_split\n",
    "from sklearn.preprocessing import LabelEncoder\n",
    "from sklearn.metrics import confusion_matrix, accuracy_score\n",
    "from sklearn.svm import SVC\n",
    "from sklearn.ensemble import ExtraTreesClassifier\n",
    "\n",
    "\n",
    "# Obs: \"  SVC \" -> A biblioteca from sklearn.svm import SVC é usada para importar o classificador de máquina de vetores de suporte ...\n",
    "# ...(SVM) da biblioteca scikit-learn. O SVM é um algoritmo de aprendizado supervisionado que pode ser usado para classificação e ...\n",
    "# regressão\n",
    "\n",
    "# Obs: \"  ExtraTreesClassifier \" ->  algoritmo de aprendizado de máquina ensemble que usa uma floresta aleatória de árvores de decisão.\n",
    "# As árvores de decisão são um tipo de algoritmo de aprendizado supervisionado que pode ser usado para classificação e regressão. \n",
    "# Uma floresta aleatória é um conjunto de árvores de decisão que são treinadas de forma independente umas das outras.\n",
    "\n",
    "# **objetivo da aula** -> demonstrar que é possível através da seleção dos dados mais relevantes (ExtraTreesClassifier().feature_importances_),\n",
    "# criar um modelo com o algoritmo SVM - (SVC()), com menos dados e melhores resultados"
   ]
  },
  {
   "cell_type": "code",
   "execution_count": 2,
   "id": "6f4b6292-997f-4ec5-8eef-2b981ce484ee",
   "metadata": {},
   "outputs": [
    {
     "data": {
      "text/plain": [
       "(1000, 21)"
      ]
     },
     "execution_count": 2,
     "metadata": {},
     "output_type": "execute_result"
    }
   ],
   "source": [
    "# Carregamento da base de dados\n",
    "\n",
    "\n",
    "credito = pd.read_csv('Credit.csv')\n",
    "credito.shape"
   ]
  },
  {
   "cell_type": "code",
   "execution_count": 3,
   "id": "3cf20320-ea19-4bf1-aa15-657686d2afd9",
   "metadata": {},
   "outputs": [],
   "source": [
    "# Criação das variáveis independentes (previsores) e dependentes (classe)\n",
    "\n",
    "\n",
    "previsores = credito.iloc[:, 0:20].values\n",
    "classe = credito.iloc[:,20].values"
   ]
  },
  {
   "cell_type": "code",
   "execution_count": 4,
   "id": "399165b6-c60f-401a-b45c-906e805ad359",
   "metadata": {},
   "outputs": [],
   "source": [
    "# Transformação dos atributos categóricos am atributos numéricos\n",
    "\n",
    "\n",
    "\n",
    "labelencoder = LabelEncoder()\n",
    "\n",
    "previsores[:, 0] = labelencoder.fit_transform(previsores[:, 0])\n",
    "\n",
    "previsores[:, 2] = labelencoder.fit_transform(previsores[:, 2])\n",
    "\n",
    "previsores[:, 3] = labelencoder.fit_transform(previsores[:, 3])\n",
    "\n",
    "previsores[:, 5] = labelencoder.fit_transform(previsores[:, 5])\n",
    "\n",
    "previsores[:, 6] = labelencoder.fit_transform(previsores[:, 6])\n",
    "\n",
    "previsores[:, 8] = labelencoder.fit_transform(previsores[:, 8])\n",
    "\n",
    "previsores[:, 9] = labelencoder.fit_transform(previsores[:, 9])\n",
    "\n",
    "previsores[:, 11] = labelencoder.fit_transform(previsores[:, 11])\n",
    "\n",
    "previsores[:, 13] = labelencoder.fit_transform(previsores[:, 13])\n",
    "\n",
    "previsores[:, 14] = labelencoder.fit_transform(previsores[:, 14])\n",
    "\n",
    "previsores[:, 16] = labelencoder.fit_transform(previsores[:, 16])\n",
    "\n",
    "previsores[:, 18] = labelencoder.fit_transform(previsores[:, 18])\n",
    "\n",
    "previsores[:, 19] = labelencoder.fit_transform(previsores[:, 19])"
   ]
  },
  {
   "cell_type": "code",
   "execution_count": 5,
   "id": "662987ec-ba9a-4b22-add4-a3be1cd3f390",
   "metadata": {},
   "outputs": [],
   "source": [
    "# Divisão da base de dados entre treinamento e teste (30% para teste e 70% para treino)\n",
    "\n",
    "\n",
    "X_train, X_test, y_train, y_test = train_test_split(previsores, classe,\n",
    "                                                   test_size=0.3, random_state=1)"
   ]
  },
  {
   "cell_type": "code",
   "execution_count": null,
   "id": "c616ee39-3991-427b-be0c-7aa55b7a026c",
   "metadata": {},
   "outputs": [],
   "source": [
    "# Criação do modelo e treinamento\n",
    "\n",
    "\n",
    "svm = SVC()\n",
    "svm.fit(X_train, y_train)\n",
    "\n",
    "# **SVC()** -> A função SVC() é uma função do módulo sklearn.svm, que implementa o algoritmo de aprendizado de máquina chamado \n",
    "# Support Vector Machine (SVM). SVM é um método de classificação supervisionado que pode ser usado para problemas de classificação \n",
    "# binária ou multiclasse. A ideia básica do SVM é encontrar um hiperplano que separe os dados em duas ou mais classes, \n",
    "# de forma que a distância entre o hiperplano e os pontos mais próximos de cada classe (chamados de vetores de suporte) seja máxima. \n",
    "# Essa distância é chamada de margem e indica o quão bem o hiperplano separa os dados.\n",
    "\n",
    "# A função SVC() recebe como parâmetros os dados de entrada (X) e os rótulos das classes (y), além de outros argumentos opcionais "
   ]
  },
  {
   "cell_type": "code",
   "execution_count": 9,
   "id": "0717d143-a650-43cb-a427-13c151a146d9",
   "metadata": {},
   "outputs": [
    {
     "data": {
      "text/plain": [
       "array(['good', 'bad', 'good', 'good', 'good'], dtype=object)"
      ]
     },
     "execution_count": 9,
     "metadata": {},
     "output_type": "execute_result"
    }
   ],
   "source": [
    "# Previsões para o modelo\n",
    "\n",
    "\n",
    "previsoes_svm = svm.predict(X_test)\n",
    "previsoes_svm[0:5]"
   ]
  },
  {
   "cell_type": "code",
   "execution_count": 11,
   "id": "10baccba-ecd8-4f52-8181-26d8d384400f",
   "metadata": {},
   "outputs": [
    {
     "data": {
      "text/plain": [
       "0.7166666666666667"
      ]
     },
     "execution_count": 11,
     "metadata": {},
     "output_type": "execute_result"
    }
   ],
   "source": [
    "# Acuracia\n",
    "\n",
    "resultados_svm = accuracy_score(y_test, previsoes_svm)\n",
    "resultados_svm"
   ]
  },
  {
   "cell_type": "code",
   "execution_count": null,
   "id": "10bd0104-e4d3-431d-acb9-38cc7f085913",
   "metadata": {},
   "outputs": [],
   "source": [
    "# Cria-se modelo com Extra Trees Classifier\n",
    "# Ajusta-se o modelo aos dados\n",
    "\n",
    "\n",
    "forest = ExtraTreesClassifier()\n",
    "forest.fit(X_train, y_train)\n",
    "\n",
    "\n",
    "# **ExtraTreesClassifier()** -> A função ExtraTreesClassifier() é uma função do módulo sklearn.ensemble, que implementa o algoritmo de\n",
    "# aprendizado de máquina chamado Extremely Randomized Trees (Extra Trees). \n",
    "# Extra Trees é um método de classificação supervisionado que pode ser usado para problemas de classificação binária ou multiclasse.\n",
    "# A ideia básica do Extra Trees é construir um conjunto de árvores de decisão aleatórias e combinar suas previsões usando a regra da \n",
    "# maioria. As árvores de decisão são estruturas que permitem dividir os dados em subconjuntos homogêneos, \n",
    "# baseados em critérios de divisão escolhidos a partir das características dos dados. \n",
    "# As árvores de decisão são capazes de capturar relações não-lineares e interações entre as características.\n",
    "\n",
    "# A função ExtraTreesClassifier() recebe como parâmetros os dados de entrada (X) e os rótulos das classes (y), \n",
    "# além de outros argumentos opcionais que especificam o número de árvores a serem construídas (n_estimators), \n",
    "# o critério de divisão (criterion), \n",
    "# a profundidade máxima das árvores (max_depth), etc. \n",
    "# A função retorna um objeto que representa o modelo treinado, que pode ser usado para fazer previsões em novos dados usando o \n",
    "# método predict().\n",
    "\n"
   ]
  },
  {
   "cell_type": "code",
   "execution_count": 13,
   "id": "b5bbfcf9-7701-4583-b4e1-eb3e199e18ed",
   "metadata": {},
   "outputs": [
    {
     "data": {
      "text/plain": [
       "array([0.10242247, 0.08155529, 0.06784971, 0.05792318, 0.08045904,\n",
       "       0.05138059, 0.04905182, 0.05290478, 0.04243258, 0.02845898,\n",
       "       0.05021103, 0.04792854, 0.07232005, 0.0426019 , 0.03789389,\n",
       "       0.0351889 , 0.0399188 , 0.02028434, 0.03270449, 0.00650961])"
      ]
     },
     "execution_count": 13,
     "metadata": {},
     "output_type": "execute_result"
    }
   ],
   "source": [
    "# Extração das características mais importantes\n",
    "\n",
    "\n",
    "importancias = forest.feature_importances_\n",
    "importancias\n",
    "\n",
    "# Cria-se objeto aplicando-se o atributo feature_importances_ da Classe ExtraTreeClassifier ao modelo\n",
    "# **feature_importances** -> O atributo feature_importances_ se refere à importância relativa de cada característica (feature) \n",
    "# para a classificação dos dados pelo modelo ExtraTreesClassifier(). \n",
    "# Esse atributo é um vetor que contém valores entre 0 e 1, que somam 1, e que indicam o quanto cada característica contribui \n",
    "# para a decisão do modelo. \n",
    "# Quanto maior o valor, mais importante é a característica. \n",
    "# Esse atributo pode ser usado para selecionar as características mais relevantes para o problema ou para avaliar o impacto \n",
    "# de cada característica na performance do modelo"
   ]
  },
  {
   "cell_type": "code",
   "execution_count": 14,
   "id": "3d665f3b-b282-47d8-a249-14e526649b6b",
   "metadata": {},
   "outputs": [
    {
     "data": {
      "text/plain": [
       "array([[1, 15, 0, 1],\n",
       "       [2, 36, 3, 6],\n",
       "       [0, 12, 4, 5]], dtype=object)"
      ]
     },
     "execution_count": 14,
     "metadata": {},
     "output_type": "execute_result"
    }
   ],
   "source": [
    "# Criação da nova base de dados utilizando os atributos mais importantes\n",
    "\n",
    "\n",
    "X_train_2 = X_train[:, [0, 1, 2, 3]]\n",
    "X_test_2 = X_test[:, [0, 1, 2, 3]]\n",
    "\n",
    "X_test_2[0:3, :]"
   ]
  },
  {
   "cell_type": "code",
   "execution_count": null,
   "id": "9cbaeda3-2422-45b8-8a75-65c98542170c",
   "metadata": {},
   "outputs": [],
   "source": [
    "# Criar outro modelo com a base de dados reduzida\n",
    "# Treinamento e obtenção das previsões e taxa de acerto\n",
    "\n",
    "\n",
    "svm_2 = SVC()\n",
    "svm_2.fit(X_train_2, y_train)"
   ]
  },
  {
   "cell_type": "code",
   "execution_count": 16,
   "id": "873445d4-9473-4dd7-bd6f-363e72157c3a",
   "metadata": {},
   "outputs": [],
   "source": [
    "# Previsões para o novo modelo\n",
    "\n",
    "\n",
    "previsoes_2 = svm_2.predict(X_test_2)"
   ]
  },
  {
   "cell_type": "code",
   "execution_count": 17,
   "id": "5bad5c07-a6c1-48dd-af94-dc71522a0ea4",
   "metadata": {},
   "outputs": [
    {
     "data": {
      "text/plain": [
       "0.7233333333333334"
      ]
     },
     "execution_count": 17,
     "metadata": {},
     "output_type": "execute_result"
    }
   ],
   "source": [
    "# Taxa de acerto do modelo com a seleção de atributos\n",
    "\n",
    "\n",
    "taxa_acerto_nova = accuracy_score(y_test, previsoes_2)\n",
    "taxa_acerto_nova"
   ]
  },
  {
   "cell_type": "code",
   "execution_count": 37,
   "id": "28bb4631-2962-4f21-ba95-67ad323a45c1",
   "metadata": {},
   "outputs": [
    {
     "data": {
      "text/plain": [
       "array([[  9,  77],\n",
       "       [  6, 208]], dtype=int64)"
      ]
     },
     "execution_count": 37,
     "metadata": {},
     "output_type": "execute_result"
    }
   ],
   "source": [
    "# Matrix de confusão com a seleção de atributos\n",
    "\n",
    "confusao = confusion_matrix(y_test, previsoes_2)\n",
    "confusao"
   ]
  },
  {
   "cell_type": "code",
   "execution_count": 13,
   "id": "663e0c90-68fd-4496-a7e2-1bc0673e669a",
   "metadata": {},
   "outputs": [],
   "source": [
    "# APRENDIZADO BASEADO EM INSTÂNCIAS, p4"
   ]
  },
  {
   "cell_type": "code",
   "execution_count": 15,
   "id": "f8fb1265-173b-4664-beef-efb9436caf05",
   "metadata": {},
   "outputs": [],
   "source": [
    "# Importação das bibliotecas\n",
    "\n",
    "from sklearn.model_selection import train_test_split\n",
    "from sklearn.metrics import confusion_matrix, accuracy_score\n",
    "from sklearn.neighbors import KNeighborsClassifier\n",
    "from sklearn import datasets\n",
    "import pandas as pd\n",
    "from scipy import stats\n",
    "\n",
    "# Obs: \" KNeighborsClassifier  \" ->  é usada para importar o classificador k-vizinhos mais próximos (KNN) da biblioteca scikit-learn. \n",
    "# O KNN é um algoritmo de aprendizado supervisionado que pode ser usado para classificação e regressão.\n",
    "# classifica uma nova instância com base nos seus k vizinhos mais próximos. \n",
    "# Os vizinhos mais próximos são definidos com base na distância entre a nova instância e as instâncias de treinamento\n",
    "\n",
    "# Obs: \"  datasets \" ->  usada para importar conjuntos de dados da biblioteca scikit-learn. \n",
    "# O conjunto de dados é um conjunto de dados pré-computado que pode ser usado para treinamento e teste de algoritmos de aprendizado de máquina"
   ]
  },
  {
   "cell_type": "code",
   "execution_count": 25,
   "id": "9af5f672-dac1-4da8-8c2d-97b44fedba32",
   "metadata": {},
   "outputs": [
    {
     "data": {
      "text/html": [
       "<div>\n",
       "<style scoped>\n",
       "    .dataframe tbody tr th:only-of-type {\n",
       "        vertical-align: middle;\n",
       "    }\n",
       "\n",
       "    .dataframe tbody tr th {\n",
       "        vertical-align: top;\n",
       "    }\n",
       "\n",
       "    .dataframe thead th {\n",
       "        text-align: right;\n",
       "    }\n",
       "</style>\n",
       "<table border=\"1\" class=\"dataframe\">\n",
       "  <thead>\n",
       "    <tr style=\"text-align: right;\">\n",
       "      <th></th>\n",
       "      <th>sepal length</th>\n",
       "      <th>sepal width</th>\n",
       "      <th>petal length</th>\n",
       "      <th>petal width</th>\n",
       "      <th>class</th>\n",
       "    </tr>\n",
       "  </thead>\n",
       "  <tbody>\n",
       "    <tr>\n",
       "      <th>0</th>\n",
       "      <td>5.1</td>\n",
       "      <td>3.5</td>\n",
       "      <td>1.4</td>\n",
       "      <td>0.2</td>\n",
       "      <td>Iris-setosa</td>\n",
       "    </tr>\n",
       "    <tr>\n",
       "      <th>1</th>\n",
       "      <td>4.9</td>\n",
       "      <td>3.0</td>\n",
       "      <td>1.4</td>\n",
       "      <td>0.2</td>\n",
       "      <td>Iris-setosa</td>\n",
       "    </tr>\n",
       "    <tr>\n",
       "      <th>2</th>\n",
       "      <td>4.7</td>\n",
       "      <td>3.2</td>\n",
       "      <td>1.3</td>\n",
       "      <td>0.2</td>\n",
       "      <td>Iris-setosa</td>\n",
       "    </tr>\n",
       "    <tr>\n",
       "      <th>3</th>\n",
       "      <td>4.6</td>\n",
       "      <td>3.1</td>\n",
       "      <td>1.5</td>\n",
       "      <td>0.2</td>\n",
       "      <td>Iris-setosa</td>\n",
       "    </tr>\n",
       "    <tr>\n",
       "      <th>4</th>\n",
       "      <td>5.0</td>\n",
       "      <td>3.6</td>\n",
       "      <td>1.4</td>\n",
       "      <td>0.2</td>\n",
       "      <td>Iris-setosa</td>\n",
       "    </tr>\n",
       "  </tbody>\n",
       "</table>\n",
       "</div>"
      ],
      "text/plain": [
       "   sepal length  sepal width  petal length  petal width        class\n",
       "0           5.1          3.5           1.4          0.2  Iris-setosa\n",
       "1           4.9          3.0           1.4          0.2  Iris-setosa\n",
       "2           4.7          3.2           1.3          0.2  Iris-setosa\n",
       "3           4.6          3.1           1.5          0.2  Iris-setosa\n",
       "4           5.0          3.6           1.4          0.2  Iris-setosa"
      ]
     },
     "execution_count": 25,
     "metadata": {},
     "output_type": "execute_result"
    }
   ],
   "source": [
    "# Carregamento de disco, apenas para visualização\n",
    "\n",
    "\n",
    "iristemp = pd.read_csv('iris.csv')\n",
    "iristemp.head()"
   ]
  },
  {
   "cell_type": "code",
   "execution_count": 26,
   "id": "91de4ad2-ff0b-45f5-8937-8603bd47d2a9",
   "metadata": {},
   "outputs": [
    {
     "data": {
      "text/plain": [
       "DescribeResult(nobs=150, minmax=(array([4.3, 2. , 1. , 0.1]), array([7.9, 4.4, 6.9, 2.5])), mean=array([5.84333333, 3.05733333, 3.758     , 1.19933333]), variance=array([0.68569351, 0.18997942, 3.11627785, 0.58100626]), skewness=array([ 0.31175306,  0.31576711, -0.27212767, -0.10193421]), kurtosis=array([-0.57356795,  0.18097632, -1.39553589, -1.33606741]))"
      ]
     },
     "execution_count": 26,
     "metadata": {},
     "output_type": "execute_result"
    }
   ],
   "source": [
    "# Carregamento da base de dados e visualização da descrição estatística dos dados\n",
    "\n",
    "\n",
    "iris = datasets.load_iris()\n",
    "stats.describe(iris.data)"
   ]
  },
  {
   "cell_type": "code",
   "execution_count": null,
   "id": "8fd05c2f-9689-49a4-af69-e3d00d503a0e",
   "metadata": {},
   "outputs": [],
   "source": [
    "# Classe \n",
    "\n",
    "\n",
    "iris.target"
   ]
  },
  {
   "cell_type": "code",
   "execution_count": null,
   "id": "9daeea2f-5dd0-4a98-a733-a7b80b472aad",
   "metadata": {},
   "outputs": [],
   "source": [
    "# Dados \n",
    "\n",
    "\n",
    "iris.data"
   ]
  },
  {
   "cell_type": "code",
   "execution_count": 29,
   "id": "04255d35-31f2-4601-b5db-ca41d3ba2a85",
   "metadata": {},
   "outputs": [],
   "source": [
    "# Criação dos previsores (variável independente -X) e classe (variável dependente - y)\n",
    "\n",
    "\n",
    "previsores = iris.data\n",
    "classe = iris.target"
   ]
  },
  {
   "cell_type": "code",
   "execution_count": 30,
   "id": "ef93e12b-495b-42c3-b94a-bf9163c3a98c",
   "metadata": {},
   "outputs": [],
   "source": [
    "# Divisão da base de dados entre treinamento e teste (70% - treino, 30% - teste)\n",
    "\n",
    "\n",
    "X_train, X_test, y_train, y_test = train_test_split(previsores, classe, random_state=0, test_size=0.3)"
   ]
  },
  {
   "cell_type": "code",
   "execution_count": null,
   "id": "db84ec61-a471-4d08-8a99-504cc2e1d0bd",
   "metadata": {},
   "outputs": [],
   "source": [
    "# Criação do modelo e treinamento\n",
    "\n",
    "\n",
    "knn = KNeighborsClassifier(n_neighbors=3)\n",
    "knn.fit(X_train, y_train)"
   ]
  },
  {
   "cell_type": "code",
   "execution_count": 33,
   "id": "9edd19b7-2b74-4740-a2fd-b3a0acf4309e",
   "metadata": {},
   "outputs": [],
   "source": [
    "# Obtenção das previsões\n",
    "\n",
    "\n",
    "previsoes = knn.predict(X_test)"
   ]
  },
  {
   "cell_type": "code",
   "execution_count": 35,
   "id": "c0afedd2-f6ed-4439-9563-d78dc9eeb6fb",
   "metadata": {},
   "outputs": [
    {
     "data": {
      "text/plain": [
       "array([[16,  0,  0],\n",
       "       [ 0, 17,  1],\n",
       "       [ 0,  0, 11]], dtype=int64)"
      ]
     },
     "execution_count": 35,
     "metadata": {},
     "output_type": "execute_result"
    }
   ],
   "source": [
    "# Obtenção da matriz de confusão\n",
    "\n",
    "\n",
    "confusao = confusion_matrix(y_test, previsoes)\n",
    "confusao"
   ]
  },
  {
   "cell_type": "code",
   "execution_count": 36,
   "id": "684bea26-1d77-4d8f-af60-34c5c54773eb",
   "metadata": {},
   "outputs": [
    {
     "data": {
      "text/plain": [
       "0.9777777777777777"
      ]
     },
     "execution_count": 36,
     "metadata": {},
     "output_type": "execute_result"
    }
   ],
   "source": [
    "# Taxa de acertos\n",
    "\n",
    "\n",
    "taxa_acerto = accuracy_score(y_test, previsoes)\n",
    "taxa_acerto"
   ]
  },
  {
   "cell_type": "code",
   "execution_count": 1,
   "id": "85f83045-712c-4cea-af7d-104703ebdd71",
   "metadata": {
    "tags": []
   },
   "outputs": [],
   "source": [
    "# ALGORITMO RANDOM FOREST CLASSIFIER, p5\n",
    "\n",
    "# O algoritmo de machine learning RandomForestClassifier é um método que usa um conjunto de árvores de decisão para \n",
    "# realizar tarefas de classificação ou regressão. \n",
    "# Cada árvore é treinada com uma amostra aleatória dos dados de entrada e usa um subconjunto aleatório de características\n",
    "# para fazer a divisão dos nós. \n",
    "# A previsão final é obtida pela média ou pela votação das previsões de todas as árvores. \n",
    "# Esse método tem a vantagem de reduzir o risco de sobreajuste, aumentar a precisão e a robustez, \n",
    "# e lidar com dados faltantes ou atípicos. \n",
    "# Para usar esse modelo em Python, você pode usar a biblioteca scikit-learn, que oferece uma classe \n",
    "# chamada RandomForestClassifier com vários parâmetros que podem ser ajustados para melhorar o desempenho do modelo\n"
   ]
  },
  {
   "cell_type": "code",
   "execution_count": 1,
   "id": "4fea4b60-f1c1-4e38-b8c6-d906cb34c7c0",
   "metadata": {},
   "outputs": [],
   "source": [
    "# Importação das bibliotecas\n",
    "\n",
    "import pandas as pd\n",
    "from sklearn.model_selection import train_test_split\n",
    "from sklearn.preprocessing import LabelEncoder \n",
    "from sklearn.metrics import accuracy_score, confusion_matrix\n",
    "from sklearn.ensemble import RandomForestClassifier"
   ]
  },
  {
   "cell_type": "code",
   "execution_count": 2,
   "id": "c0d1d7f2-0210-4556-a6f4-5ccdfd3a944b",
   "metadata": {},
   "outputs": [
    {
     "data": {
      "text/html": [
       "<div>\n",
       "<style scoped>\n",
       "    .dataframe tbody tr th:only-of-type {\n",
       "        vertical-align: middle;\n",
       "    }\n",
       "\n",
       "    .dataframe tbody tr th {\n",
       "        vertical-align: top;\n",
       "    }\n",
       "\n",
       "    .dataframe thead th {\n",
       "        text-align: right;\n",
       "    }\n",
       "</style>\n",
       "<table border=\"1\" class=\"dataframe\">\n",
       "  <thead>\n",
       "    <tr style=\"text-align: right;\">\n",
       "      <th></th>\n",
       "      <th>checking_status</th>\n",
       "      <th>duration</th>\n",
       "      <th>credit_history</th>\n",
       "      <th>purpose</th>\n",
       "      <th>credit_amount</th>\n",
       "      <th>savings_status</th>\n",
       "      <th>employment</th>\n",
       "      <th>installment_commitment</th>\n",
       "      <th>personal_status</th>\n",
       "      <th>other_parties</th>\n",
       "      <th>...</th>\n",
       "      <th>property_magnitude</th>\n",
       "      <th>age</th>\n",
       "      <th>other_payment_plans</th>\n",
       "      <th>housing</th>\n",
       "      <th>existing_credits</th>\n",
       "      <th>job</th>\n",
       "      <th>num_dependents</th>\n",
       "      <th>own_telephone</th>\n",
       "      <th>foreign_worker</th>\n",
       "      <th>class</th>\n",
       "    </tr>\n",
       "  </thead>\n",
       "  <tbody>\n",
       "    <tr>\n",
       "      <th>0</th>\n",
       "      <td>&lt;0</td>\n",
       "      <td>6</td>\n",
       "      <td>'critical/other existing credit'</td>\n",
       "      <td>radio/tv</td>\n",
       "      <td>1169</td>\n",
       "      <td>'no known savings'</td>\n",
       "      <td>&gt;=7</td>\n",
       "      <td>4</td>\n",
       "      <td>'male single'</td>\n",
       "      <td>none</td>\n",
       "      <td>...</td>\n",
       "      <td>'real estate'</td>\n",
       "      <td>67</td>\n",
       "      <td>none</td>\n",
       "      <td>own</td>\n",
       "      <td>2</td>\n",
       "      <td>skilled</td>\n",
       "      <td>1</td>\n",
       "      <td>yes</td>\n",
       "      <td>yes</td>\n",
       "      <td>good</td>\n",
       "    </tr>\n",
       "    <tr>\n",
       "      <th>1</th>\n",
       "      <td>0&lt;=X&lt;200</td>\n",
       "      <td>48</td>\n",
       "      <td>'existing paid'</td>\n",
       "      <td>radio/tv</td>\n",
       "      <td>5951</td>\n",
       "      <td>&lt;100</td>\n",
       "      <td>1&lt;=X&lt;4</td>\n",
       "      <td>2</td>\n",
       "      <td>'female div/dep/mar'</td>\n",
       "      <td>none</td>\n",
       "      <td>...</td>\n",
       "      <td>'real estate'</td>\n",
       "      <td>22</td>\n",
       "      <td>none</td>\n",
       "      <td>own</td>\n",
       "      <td>1</td>\n",
       "      <td>skilled</td>\n",
       "      <td>1</td>\n",
       "      <td>none</td>\n",
       "      <td>yes</td>\n",
       "      <td>bad</td>\n",
       "    </tr>\n",
       "    <tr>\n",
       "      <th>2</th>\n",
       "      <td>'no checking'</td>\n",
       "      <td>12</td>\n",
       "      <td>'critical/other existing credit'</td>\n",
       "      <td>education</td>\n",
       "      <td>2096</td>\n",
       "      <td>&lt;100</td>\n",
       "      <td>4&lt;=X&lt;7</td>\n",
       "      <td>2</td>\n",
       "      <td>'male single'</td>\n",
       "      <td>none</td>\n",
       "      <td>...</td>\n",
       "      <td>'real estate'</td>\n",
       "      <td>49</td>\n",
       "      <td>none</td>\n",
       "      <td>own</td>\n",
       "      <td>1</td>\n",
       "      <td>'unskilled resident'</td>\n",
       "      <td>2</td>\n",
       "      <td>none</td>\n",
       "      <td>yes</td>\n",
       "      <td>good</td>\n",
       "    </tr>\n",
       "    <tr>\n",
       "      <th>3</th>\n",
       "      <td>&lt;0</td>\n",
       "      <td>42</td>\n",
       "      <td>'existing paid'</td>\n",
       "      <td>furniture/equipment</td>\n",
       "      <td>7882</td>\n",
       "      <td>&lt;100</td>\n",
       "      <td>4&lt;=X&lt;7</td>\n",
       "      <td>2</td>\n",
       "      <td>'male single'</td>\n",
       "      <td>guarantor</td>\n",
       "      <td>...</td>\n",
       "      <td>'life insurance'</td>\n",
       "      <td>45</td>\n",
       "      <td>none</td>\n",
       "      <td>'for free'</td>\n",
       "      <td>1</td>\n",
       "      <td>skilled</td>\n",
       "      <td>2</td>\n",
       "      <td>none</td>\n",
       "      <td>yes</td>\n",
       "      <td>good</td>\n",
       "    </tr>\n",
       "    <tr>\n",
       "      <th>4</th>\n",
       "      <td>&lt;0</td>\n",
       "      <td>24</td>\n",
       "      <td>'delayed previously'</td>\n",
       "      <td>'new car'</td>\n",
       "      <td>4870</td>\n",
       "      <td>&lt;100</td>\n",
       "      <td>1&lt;=X&lt;4</td>\n",
       "      <td>3</td>\n",
       "      <td>'male single'</td>\n",
       "      <td>none</td>\n",
       "      <td>...</td>\n",
       "      <td>'no known property'</td>\n",
       "      <td>53</td>\n",
       "      <td>none</td>\n",
       "      <td>'for free'</td>\n",
       "      <td>2</td>\n",
       "      <td>skilled</td>\n",
       "      <td>2</td>\n",
       "      <td>none</td>\n",
       "      <td>yes</td>\n",
       "      <td>bad</td>\n",
       "    </tr>\n",
       "  </tbody>\n",
       "</table>\n",
       "<p>5 rows × 21 columns</p>\n",
       "</div>"
      ],
      "text/plain": [
       "  checking_status  duration                    credit_history  \\\n",
       "0              <0         6  'critical/other existing credit'   \n",
       "1        0<=X<200        48                   'existing paid'   \n",
       "2   'no checking'        12  'critical/other existing credit'   \n",
       "3              <0        42                   'existing paid'   \n",
       "4              <0        24              'delayed previously'   \n",
       "\n",
       "               purpose  credit_amount      savings_status employment  \\\n",
       "0             radio/tv           1169  'no known savings'        >=7   \n",
       "1             radio/tv           5951                <100     1<=X<4   \n",
       "2            education           2096                <100     4<=X<7   \n",
       "3  furniture/equipment           7882                <100     4<=X<7   \n",
       "4            'new car'           4870                <100     1<=X<4   \n",
       "\n",
       "   installment_commitment       personal_status other_parties  ...  \\\n",
       "0                       4         'male single'          none  ...   \n",
       "1                       2  'female div/dep/mar'          none  ...   \n",
       "2                       2         'male single'          none  ...   \n",
       "3                       2         'male single'     guarantor  ...   \n",
       "4                       3         'male single'          none  ...   \n",
       "\n",
       "    property_magnitude age  other_payment_plans     housing existing_credits  \\\n",
       "0        'real estate'  67                 none         own                2   \n",
       "1        'real estate'  22                 none         own                1   \n",
       "2        'real estate'  49                 none         own                1   \n",
       "3     'life insurance'  45                 none  'for free'                1   \n",
       "4  'no known property'  53                 none  'for free'                2   \n",
       "\n",
       "                    job num_dependents  own_telephone foreign_worker class  \n",
       "0               skilled              1            yes            yes  good  \n",
       "1               skilled              1           none            yes   bad  \n",
       "2  'unskilled resident'              2           none            yes  good  \n",
       "3               skilled              2           none            yes  good  \n",
       "4               skilled              2           none            yes   bad  \n",
       "\n",
       "[5 rows x 21 columns]"
      ]
     },
     "execution_count": 2,
     "metadata": {},
     "output_type": "execute_result"
    }
   ],
   "source": [
    "# Carregamento da base de dados\n",
    "\n",
    "credito = pd.read_csv('Credit.csv')\n",
    "credito.head()"
   ]
  },
  {
   "cell_type": "code",
   "execution_count": 3,
   "id": "94b69181-26f1-46b3-97e9-674d5073e6c7",
   "metadata": {},
   "outputs": [],
   "source": [
    "# Separação de previsores e classe\n",
    "\n",
    "\n",
    "previsores = credito.iloc[:, 0:20].values\n",
    "classe = credito.iloc[:, 20].values"
   ]
  },
  {
   "cell_type": "code",
   "execution_count": 5,
   "id": "1a416afa-7672-4726-8552-f6e43782f3fc",
   "metadata": {},
   "outputs": [],
   "source": [
    "# Transformação dos dados categóricos em numéricos\n",
    "\n",
    "\n",
    "labelencoder = LabelEncoder()\n",
    "previsores[:, 0] = labelencoder.fit_transform(previsores[:, 0])\n",
    "previsores[:, 2] = labelencoder.fit_transform(previsores[:, 2])\n",
    "previsores[:, 3] = labelencoder.fit_transform(previsores[:, 3])\n",
    "previsores[:, 5] = labelencoder.fit_transform(previsores[:, 5])\n",
    "previsores[:, 6] = labelencoder.fit_transform(previsores[:, 6])\n",
    "previsores[:, 8] = labelencoder.fit_transform(previsores[:, 8])\n",
    "previsores[:, 9] = labelencoder.fit_transform(previsores[:, 9])\n",
    "previsores[:, 11] = labelencoder.fit_transform(previsores[:, 11])\n",
    "previsores[:, 13] = labelencoder.fit_transform(previsores[:, 13])\n",
    "previsores[:, 14] = labelencoder.fit_transform(previsores[:, 14])\n",
    "previsores[:, 16] = labelencoder.fit_transform(previsores[:, 16])\n",
    "previsores[:, 18] = labelencoder.fit_transform(previsores[:, 18])\n",
    "previsores[:, 19] = labelencoder.fit_transform(previsores[:, 19])"
   ]
  },
  {
   "cell_type": "code",
   "execution_count": 8,
   "id": "bd676f6d-f321-4b08-9596-263414c8bd16",
   "metadata": {},
   "outputs": [],
   "source": [
    "# Divisão da base de dados em dados de treino e de teste\n",
    "\n",
    "\n",
    "X_train, X_test, y_train, y_test = train_test_split(previsores, classe,\n",
    "                                                   test_size = 0.3,\n",
    "                                                   random_state = 1)"
   ]
  },
  {
   "cell_type": "code",
   "execution_count": null,
   "id": "e4b304b6-6550-435d-b85a-a4f0fbf98d82",
   "metadata": {},
   "outputs": [],
   "source": [
    "# Criação do modelo e treinamento\n",
    "\n",
    "\n",
    "forest = RandomForestClassifier(n_estimators=100)\n",
    "forest.fit(X_train, y_train)\n",
    "\n",
    "# **n_estimators** -> é o número de árvores que o modelo RandomForestClassifier vai usar para fazer a classificação ou regressão."
   ]
  },
  {
   "cell_type": "code",
   "execution_count": null,
   "id": "6397e263-10af-4727-bb77-4876c3f82a5c",
   "metadata": {},
   "outputs": [],
   "source": [
    "# Apresenta toda a floresta, que são 100 DecisionTreesClassifier(n_estimators=100)\n",
    "\n",
    "\n",
    "forest.estimators_[1]"
   ]
  },
  {
   "cell_type": "code",
   "execution_count": 28,
   "id": "72b8011d-9605-4a9c-a28b-ed7878b6c1e3",
   "metadata": {},
   "outputs": [],
   "source": [
    "# Previsões para o modelo floresta\n",
    "\n",
    "\n",
    "previsoes = forest.predict(X_test)"
   ]
  },
  {
   "cell_type": "code",
   "execution_count": 29,
   "id": "811a9583-dacc-497d-9abe-8eb540c983c2",
   "metadata": {},
   "outputs": [
    {
     "data": {
      "text/plain": [
       "0.7633333333333333"
      ]
     },
     "execution_count": 29,
     "metadata": {},
     "output_type": "execute_result"
    }
   ],
   "source": [
    "# Taxa de acerto do modelo\n",
    "\n",
    "\n",
    "taxa_acerto = accuracy_score(y_test, previsoes)\n",
    "taxa_acerto"
   ]
  },
  {
   "cell_type": "code",
   "execution_count": 31,
   "id": "678804d9-6929-4cf7-bc65-25a4380c94c8",
   "metadata": {},
   "outputs": [
    {
     "data": {
      "text/plain": [
       "array([[ 33,  53],\n",
       "       [ 18, 196]], dtype=int64)"
      ]
     },
     "execution_count": 31,
     "metadata": {},
     "output_type": "execute_result"
    }
   ],
   "source": [
    "# Matriz de confusão para o modelo floresta\n",
    "\n",
    "\n",
    "confusao = confusion_matrix(y_test, previsoes)\n",
    "confusao"
   ]
  },
  {
   "cell_type": "code",
   "execution_count": 1,
   "id": "240cef70-5889-43f1-baa6-a050fbd92192",
   "metadata": {},
   "outputs": [],
   "source": [
    "# AGRUPAMENTO COM K-MEANS, p6"
   ]
  },
  {
   "cell_type": "code",
   "execution_count": 1,
   "id": "c1a16aea-1634-44e6-bac4-04bf3c5c44e4",
   "metadata": {},
   "outputs": [],
   "source": [
    "# Importação das bibliotecas\n",
    "\n",
    "from sklearn import datasets\n",
    "import numpy as np\n",
    "from sklearn.metrics import confusion_matrix\n",
    "import matplotlib.pyplot as plt\n",
    "from sklearn.cluster import KMeans\n",
    "\n",
    "\n",
    "# Obs: \" from sklearn.cluster import KMeans \" -> é uma biblioteca de aprendizado não supervisionado do Python que implementa ...\n",
    "# ...o algoritmo K-Means. O K-Means é um algoritmo de clusterização que agrupa um conjunto de dados em k clusters, ...\n",
    "# onde cada ponto de dados pertence ao cluster com o centroide mais próximo\n",
    "\n",
    "# Obs: \" KMeans \" -> é uma classe que implementa o algoritmo K-Means. Ela possui os seguintes atributos e métodos:\n",
    "\n",
    "#     n_clusters: O número de clusters.\n",
    "#     init: O método usado para inicializar os centroides.\n",
    "#     n_init: O número de vezes que o algoritmo é executado com diferentes inicializações.\n",
    "#     max_iter: O número máximo de iterações do algoritmo.\n",
    "#     tol: A tolerância para o critério de parada.\n",
    "#     random_state: O estado aleatório usado para inicializar os centroides e o algoritmo.\n"
   ]
  },
  {
   "cell_type": "code",
   "execution_count": 2,
   "id": "d8a2b80a-e3fa-46fe-a617-b10f6c674b1f",
   "metadata": {},
   "outputs": [],
   "source": [
    "# importar banco de dados iris\n",
    "# Criar variáveis unicos e quantidade \n",
    "\n",
    "\n",
    "iris = datasets.load_iris()\n",
    "unicos, quantidade = np.unique(iris.target, return_counts = True)"
   ]
  },
  {
   "cell_type": "code",
   "execution_count": null,
   "id": "44fe2ee9-722a-47d3-b42f-c0898f5317f2",
   "metadata": {},
   "outputs": [],
   "source": [
    "iris.data"
   ]
  },
  {
   "cell_type": "code",
   "execution_count": 3,
   "id": "b8c8307a-ba97-4d6c-ae7d-3d7aa8985e68",
   "metadata": {},
   "outputs": [
    {
     "data": {
      "text/plain": [
       "array([0, 1, 2])"
      ]
     },
     "execution_count": 3,
     "metadata": {},
     "output_type": "execute_result"
    }
   ],
   "source": [
    "# Unicos\n",
    "\n",
    "\n",
    "unicos"
   ]
  },
  {
   "cell_type": "code",
   "execution_count": 4,
   "id": "6d5cb0b2-6410-4c64-a1f5-ad3af5330216",
   "metadata": {},
   "outputs": [
    {
     "data": {
      "text/plain": [
       "array([50, 50, 50], dtype=int64)"
      ]
     },
     "execution_count": 4,
     "metadata": {},
     "output_type": "execute_result"
    }
   ],
   "source": [
    "# Quantidade\n",
    "\n",
    "\n",
    "quantidade"
   ]
  },
  {
   "cell_type": "code",
   "execution_count": null,
   "id": "44fcbee7-26d1-4644-a3f7-99637a4ba0a8",
   "metadata": {},
   "outputs": [],
   "source": [
    "# Agrupamento com k-means, utilizando 3 clustes (de acordo com a base de dados)\n",
    "# Treinamento do KMenans gerado com os dados \n",
    "\n",
    "\n",
    "cluster = KMeans(n_clusters = 3) # Aponta quantos clusters(conjuntos de dados, que por serem três conjuntos, terão também três centroides)\n",
    "cluster.fit(iris.data)"
   ]
  },
  {
   "cell_type": "code",
   "execution_count": 8,
   "id": "3195df28-2f87-4836-8eef-710421b582fe",
   "metadata": {},
   "outputs": [
    {
     "data": {
      "text/plain": [
       "array([[5.9016129 , 2.7483871 , 4.39354839, 1.43387097],\n",
       "       [5.006     , 3.428     , 1.462     , 0.246     ],\n",
       "       [6.85      , 3.07368421, 5.74210526, 2.07105263]])"
      ]
     },
     "execution_count": 8,
     "metadata": {},
     "output_type": "execute_result"
    }
   ],
   "source": [
    "# Visualização dos três centroides\n",
    "\n",
    "\n",
    "centroides = cluster.cluster_centers_\n",
    "centroides"
   ]
  },
  {
   "cell_type": "code",
   "execution_count": 9,
   "id": "76c254d2-1aa4-4992-bde0-e1a65b5008e4",
   "metadata": {},
   "outputs": [
    {
     "data": {
      "text/plain": [
       "array([1, 1, 1, 1, 1, 1, 1, 1, 1, 1, 1, 1, 1, 1, 1, 1, 1, 1, 1, 1, 1, 1,\n",
       "       1, 1, 1, 1, 1, 1, 1, 1, 1, 1, 1, 1, 1, 1, 1, 1, 1, 1, 1, 1, 1, 1,\n",
       "       1, 1, 1, 1, 1, 1, 0, 0, 2, 0, 0, 0, 0, 0, 0, 0, 0, 0, 0, 0, 0, 0,\n",
       "       0, 0, 0, 0, 0, 0, 0, 0, 0, 0, 0, 2, 0, 0, 0, 0, 0, 0, 0, 0, 0, 0,\n",
       "       0, 0, 0, 0, 0, 0, 0, 0, 0, 0, 0, 0, 2, 0, 2, 2, 2, 2, 0, 2, 2, 2,\n",
       "       2, 2, 2, 0, 0, 2, 2, 2, 2, 0, 2, 0, 2, 0, 2, 2, 0, 0, 2, 2, 2, 2,\n",
       "       2, 0, 2, 2, 2, 2, 0, 2, 2, 2, 0, 2, 2, 2, 0, 2, 2, 0])"
      ]
     },
     "execution_count": 9,
     "metadata": {},
     "output_type": "execute_result"
    }
   ],
   "source": [
    "# Visualização dos grupos que cada registro foi associado (previsoes)\n",
    "\n",
    "\n",
    "previsoes = cluster.labels_\n",
    "previsoes"
   ]
  },
  {
   "cell_type": "code",
   "execution_count": 28,
   "id": "e990eee8-a11c-4d19-a640-dcc031ebb634",
   "metadata": {},
   "outputs": [
    {
     "data": {
      "text/plain": [
       "array([0, 1, 2])"
      ]
     },
     "execution_count": 28,
     "metadata": {},
     "output_type": "execute_result"
    }
   ],
   "source": [
    "# Contagem dos registros por classe\n",
    "\n",
    "\n",
    "unicos2, quantidade2 = np.unique(previsoes, return_counts = True)\n",
    "unicos2"
   ]
  },
  {
   "cell_type": "code",
   "execution_count": 30,
   "id": "ebd0d7d9-fb20-45ec-ad92-ac69077fbefc",
   "metadata": {},
   "outputs": [
    {
     "data": {
      "text/plain": [
       "array([50, 62, 38], dtype=int64)"
      ]
     },
     "execution_count": 30,
     "metadata": {},
     "output_type": "execute_result"
    }
   ],
   "source": [
    "# Quantidade\n",
    "\n",
    "\n",
    "quantidade2"
   ]
  },
  {
   "cell_type": "code",
   "execution_count": 32,
   "id": "d733fe7c-0abb-43a5-95d2-51a06cd529fc",
   "metadata": {},
   "outputs": [
    {
     "data": {
      "text/plain": [
       "array([[50,  0,  0],\n",
       "       [ 0, 48,  2],\n",
       "       [ 0, 14, 36]], dtype=int64)"
      ]
     },
     "execution_count": 32,
     "metadata": {},
     "output_type": "execute_result"
    }
   ],
   "source": [
    "# Geração da matriz de confusão para comparar os grupos com a base de dados\n",
    "\n",
    "\n",
    "confusao = confusion_matrix(iris.target, previsoes)\n",
    "confusao"
   ]
  },
  {
   "cell_type": "code",
   "execution_count": 33,
   "id": "8e0b3840-7a05-4107-a685-6ee46e989857",
   "metadata": {},
   "outputs": [
    {
     "data": {
      "text/plain": [
       "<matplotlib.legend.Legend at 0x27b6fdce290>"
      ]
     },
     "execution_count": 33,
     "metadata": {},
     "output_type": "execute_result"
    },
    {
     "data": {
      "image/png": "[encoded data removed]",
      "text/plain": [
       "<Figure size 640x480 with 1 Axes>"
      ]
     },
     "metadata": {},
     "output_type": "display_data"
    }
   ],
   "source": [
    "# Geração de gráfico com os clusters gerados, considerando para um (previsores 0, 1, 2)\n",
    "# Usando somente as colunas 0 e 1 da base de dados original para termos 2 dimensões\n",
    "\n",
    "\n",
    "plt.scatter(iris.data[previsoes == 0, 0], iris.data[previsoes == 0, 1],\n",
    "           c = 'green', label = 'Setosa')\n",
    "plt.scatter(iris.data[previsoes == 1, 0], iris.data[previsoes == 1, 1],\n",
    "           c = 'red', label = 'Versicolor')\n",
    "plt.scatter(iris.data[previsoes == 2, 0], iris.data[previsoes == 2, 1], \n",
    "           c = 'blue', label = 'Virginica')\n",
    "plt.legend()"
   ]
  },
  {
   "cell_type": "code",
   "execution_count": null,
   "id": "36a22e52-bcc0-47d2-b4c5-4297c264e6eb",
   "metadata": {},
   "outputs": [],
   "source": [
    "# # OBS: não entendi a operação iris.data[previsoeres == 0, 1],\n",
    "# a plotagem sem os dois parâmetros não é funcional, pesquisar\n",
    "\n",
    "# segundo o bing:\n",
    "    \n",
    "#     A operação previsoes == 0, 1 vai retornar um array de valores booleanos (True ou False) \n",
    "#     que indicam se cada elemento do array previsoes é igual a 0 ou 1. \n",
    "#     Os dois valores 0 e 1 se referem aos rótulos dos clusters que foram atribuídos pelo \n",
    "#     algoritmo KMeans aos dados da iris. \n",
    "#     Por exemplo, se o array previsoes for [0, 1, 2, 0, 1], então a operação previsoes == 0, 1 \n",
    "#     vai retornar [True, True, False, True, True]. \n",
    "#     Isso significa que os elementos nas posições 0, 1, 3 e 4 do array previsoes são iguais a 0 \n",
    "#     ou 1, enquanto o elemento na posição 2 é diferente de 0 e 1.\n",
    "\n",
    "# Obs: A resposta do bing não parece estar correta\n",
    "\n",
    "# Eu acredito que o 0, e 1, se refere aos eixos x, y, mas não tenho certeza"
   ]
  },
  {
   "cell_type": "code",
   "execution_count": 1,
   "id": "f58cf61c-83e1-4eb8-b324-06ee7eaef9f3",
   "metadata": {},
   "outputs": [],
   "source": [
    "# AGRUPAMENTO COM SKFUZZY - C-MEANS, p7"
   ]
  },
  {
   "cell_type": "code",
   "execution_count": null,
   "id": "558276e6-85ce-476d-b719-11233c0a6873",
   "metadata": {},
   "outputs": [],
   "source": [
    "# Instação do skfuzzy\n",
    "\n",
    "!pip install -U scikit-fuzzy"
   ]
  },
  {
   "cell_type": "code",
   "execution_count": 1,
   "id": "811e651f-7b8c-4212-9a36-d20f8617a087",
   "metadata": {},
   "outputs": [],
   "source": [
    "# Importação de bibliotecas\n",
    "\n",
    "from sklearn import datasets\n",
    "import numpy as np\n",
    "from sklearn.metrics import confusion_matrix\n",
    "import skfuzzy"
   ]
  },
  {
   "cell_type": "code",
   "execution_count": 2,
   "id": "dc5c6e43-0152-40d2-a514-7a93631e350a",
   "metadata": {},
   "outputs": [],
   "source": [
    "# Carregamento da base de dados iris, com datasets\n",
    "\n",
    "\n",
    "iris = datasets.load_iris()"
   ]
  },
  {
   "cell_type": "code",
   "execution_count": 3,
   "id": "51a5b1c8-8c65-4610-8975-c21b16adeb4b",
   "metadata": {},
   "outputs": [
    {
     "data": {
      "text/plain": [
       "array([0, 0, 0, 0, 0, 0, 0, 0, 0, 0, 0, 0, 0, 0, 0, 0, 0, 0, 0, 0, 0, 0,\n",
       "       0, 0, 0, 0, 0, 0, 0, 0, 0, 0, 0, 0, 0, 0, 0, 0, 0, 0, 0, 0, 0, 0,\n",
       "       0, 0, 0, 0, 0, 0, 1, 1, 1, 1, 1, 1, 1, 1, 1, 1, 1, 1, 1, 1, 1, 1,\n",
       "       1, 1, 1, 1, 1, 1, 1, 1, 1, 1, 1, 1, 1, 1, 1, 1, 1, 1, 1, 1, 1, 1,\n",
       "       1, 1, 1, 1, 1, 1, 1, 1, 1, 1, 1, 1, 2, 2, 2, 2, 2, 2, 2, 2, 2, 2,\n",
       "       2, 2, 2, 2, 2, 2, 2, 2, 2, 2, 2, 2, 2, 2, 2, 2, 2, 2, 2, 2, 2, 2,\n",
       "       2, 2, 2, 2, 2, 2, 2, 2, 2, 2, 2, 2, 2, 2, 2, 2, 2, 2])"
      ]
     },
     "execution_count": 3,
     "metadata": {},
     "output_type": "execute_result"
    }
   ],
   "source": [
    "iris.target"
   ]
  },
  {
   "cell_type": "code",
   "execution_count": 4,
   "id": "6c8dd7aa-e3ce-41b1-8e78-aaf0df1eddba",
   "metadata": {},
   "outputs": [],
   "source": [
    "# Aplicação do algoritmo definindo três clusters e passando a matriz transposta\n",
    "# Os outros parâmetros são obrigatórios, e são default indicados na documentação\n",
    "\n",
    "\n",
    "r = skfuzzy.cmeans(data=iris.data.T, c = 3, m = 2, error = 0.005,\n",
    "                  maxiter = 1000, init = None)\n",
    "\n",
    "\n",
    "# Obs: \" skfuzzy.means \" -> Idêntico ao KMeans, mas em vez de identificar um cluster taxativo, apresenta proporções de probabilidades...\n",
    "# ... estabelecendo uma maior ou menor probabilidade do objeto pertencer a esse ou àquele cluster em percentagem\n",
    "# O algoritmo funciona minimizando a soma das distâncias entre os pontos de dados e os centros dos clusters.\n",
    "\n",
    "# A função cmeans tem os seguintes parâmetros:\n",
    "\n",
    "#     data: O conjunto de dados a ser clusterizado.\n",
    "#     c: O número de clusters desejado.\n",
    "#     m: Um parâmetro que controla a forma das funções de pertinência.\n",
    "#     error: Um parâmetro que controla a precisão do algoritmo de clustering.\n",
    "#     maxiter: O número máximo de iterações do algoritmo.\n",
    "#     init: Uma matriz de inicialização para os centros dos clusters.\n",
    "#     seed: Uma semente para o gerador de números aleatórios.\n",
    "    \n",
    "# A função cmeans retorna um objeto do tipo cmeans que contém os seguintes atributos:\n",
    "\n",
    "#     u: Uma matriz de pertinência que representa o grau de pertinência de cada ponto de dados em cada cluster.\n",
    "#     cmeans: Uma matriz de centros dos clusters.\n",
    "#     cluster_labels: Uma matriz de rótulos de cluster que identificam a qual cluster cada ponto de dados pertence.\n",
    "\n",
    "#     Aqui está um exemplo de como usar a função cmeans: ?\n"
   ]
  },
  {
   "cell_type": "code",
   "execution_count": 6,
   "id": "297f80ba-e341-4ce4-96c2-355237dd1d1c",
   "metadata": {},
   "outputs": [
    {
     "data": {
      "text/plain": [
       "array([2.30444175e-03, 1.66597497e-02, 1.37661883e-02, 2.24786301e-02,\n",
       "       3.76207903e-03, 4.48276223e-02, 1.40107366e-02, 3.11717337e-04,\n",
       "       4.77437663e-02, 1.19431907e-02, 2.17661734e-02, 5.43556850e-03,\n",
       "       2.01943195e-02, 5.18173792e-02, 7.26329456e-02, 1.04381448e-01,\n",
       "       3.55921643e-02, 2.28885726e-03, 6.55866543e-02, 1.41629299e-02,\n",
       "       2.18692236e-02, 1.03778674e-02, 2.75183371e-02, 1.44733759e-02,\n",
       "       2.32597773e-02, 1.84720845e-02, 3.58491563e-03, 4.56704078e-03,\n",
       "       4.32966339e-03, 1.42108812e-02, 1.48094783e-02, 1.77063233e-02,\n",
       "       4.11600775e-02, 6.35027709e-02, 1.03479223e-02, 1.02052966e-02,\n",
       "       2.42613227e-02, 6.18381725e-03, 4.11042994e-02, 1.17839796e-03,\n",
       "       3.58426196e-03, 1.02321919e-01, 3.21918855e-02, 1.43923311e-02,\n",
       "       3.81506078e-02, 1.92340845e-02, 1.58489420e-02, 1.76618390e-02,\n",
       "       1.55265427e-02, 2.00901070e-03, 4.53714776e-01, 7.63430021e-01,\n",
       "       3.68086590e-01, 8.70414274e-01, 7.58029687e-01, 9.73793269e-01,\n",
       "       6.72205385e-01, 5.82780045e-01, 7.20413358e-01, 8.30765731e-01,\n",
       "       6.36748348e-01, 9.62067884e-01, 8.43382320e-01, 8.99122149e-01,\n",
       "       8.16426412e-01, 6.89373080e-01, 9.33083255e-01, 9.25930445e-01,\n",
       "       8.35177419e-01, 8.77930883e-01, 7.20928884e-01, 9.34356993e-01,\n",
       "       7.04653298e-01, 9.02375433e-01, 8.75652431e-01, 7.54291867e-01,\n",
       "       5.22927153e-01, 3.05461634e-01, 9.68614360e-01, 7.67306351e-01,\n",
       "       8.32573364e-01, 7.95756757e-01, 9.18941568e-01, 6.55424693e-01,\n",
       "       8.91127716e-01, 7.96738263e-01, 5.54632642e-01, 8.57480401e-01,\n",
       "       9.29085550e-01, 8.99674299e-01, 9.31265732e-01, 9.15230382e-01,\n",
       "       9.35907373e-01, 5.98594250e-01, 9.59056743e-01, 9.45667713e-01,\n",
       "       9.67546671e-01, 9.43733334e-01, 5.20402458e-01, 9.60756910e-01,\n",
       "       1.20691241e-01, 6.14820143e-01, 3.82699640e-02, 1.41444288e-01,\n",
       "       3.75873817e-02, 1.52761220e-01, 7.59989199e-01, 1.15221829e-01,\n",
       "       1.17167077e-01, 1.14685137e-01, 2.09144930e-01, 2.22342268e-01,\n",
       "       9.93881208e-03, 6.59397930e-01, 4.60392751e-01, 1.35646666e-01,\n",
       "       7.91878406e-02, 1.85883225e-01, 1.93311233e-01, 7.10229657e-01,\n",
       "       2.57742855e-02, 7.06444520e-01, 1.74895830e-01, 5.94680648e-01,\n",
       "       2.17486961e-02, 7.52589708e-02, 7.06792403e-01, 6.45868984e-01,\n",
       "       8.26884689e-02, 9.47483025e-02, 1.07527199e-01, 1.89049629e-01,\n",
       "       8.45640086e-02, 5.39145732e-01, 3.92118534e-01, 1.31865763e-01,\n",
       "       1.28499434e-01, 1.09581143e-01, 7.49064366e-01, 2.88646095e-02,\n",
       "       3.76521332e-02, 1.29189883e-01, 6.14820143e-01, 3.38296912e-02,\n",
       "       6.31905219e-02, 1.06031945e-01, 5.06590428e-01, 1.55715115e-01,\n",
       "       1.88638428e-01, 5.80863379e-01])"
      ]
     },
     "execution_count": 6,
     "metadata": {},
     "output_type": "execute_result"
    }
   ],
   "source": [
    "# Obtendo a porcentagem de um registro pertencer a um cluster, que está na posição 3 da matriz retornada\n",
    "\n",
    "\n",
    "previsoes_porcentagem = r[1]\n",
    "previsoes_porcentagem[0]"
   ]
  },
  {
   "cell_type": "code",
   "execution_count": 20,
   "id": "030a7128-e019-442e-801f-810f6bcc81cb",
   "metadata": {},
   "outputs": [
    {
     "data": {
      "text/plain": [
       "150"
      ]
     },
     "execution_count": 20,
     "metadata": {},
     "output_type": "execute_result"
    }
   ],
   "source": [
    "len(iris.target)"
   ]
  },
  {
   "cell_type": "code",
   "execution_count": 7,
   "id": "27ced269-a9ce-4f13-b0be-e61d918558d2",
   "metadata": {},
   "outputs": [
    {
     "name": "stdout",
     "output_type": "stream",
     "text": [
      "0.002304441745487662 0.9966236323508328 0.0010719259036794553\n",
      "0.016659749746149373 0.9758388922910101 0.007501357962840554\n",
      "0.013766188288672897 0.9798170285560684 0.006416783155258669\n",
      "0.022478630069431776 0.9674093640164954 0.01011200591407295\n",
      "0.003762079032315878 0.9944700288118006 0.0017678921558834267\n"
     ]
    }
   ],
   "source": [
    "for i in range(5):\n",
    "    print(previsoes_porcentagem[0][i], previsoes_porcentagem[1][i], previsoes_porcentagem[2][i],)"
   ]
  },
  {
   "cell_type": "code",
   "execution_count": null,
   "id": "02398a56-ed9c-4832-9db9-81efe3173094",
   "metadata": {},
   "outputs": [],
   "source": [
    "# Visualização da probabilidade de um registro pertencer a cada um dos clusters\n",
    "\n",
    "\n",
    "for x in range(150):\n",
    "    print(previsoes_porcentagem[0][x], previsoes_porcentagem[1][x], previsoes_porcentagem[2][x])"
   ]
  },
  {
   "cell_type": "code",
   "execution_count": 15,
   "id": "1576f60b-1739-48e4-87e5-5eaa63cdba67",
   "metadata": {},
   "outputs": [
    {
     "data": {
      "text/plain": [
       "array([[ 0, 50,  0],\n",
       "       [ 3,  0, 47],\n",
       "       [37,  0, 13]], dtype=int64)"
      ]
     },
     "execution_count": 15,
     "metadata": {},
     "output_type": "execute_result"
    }
   ],
   "source": [
    "# Geração da matriz de contingência para composição com as classes originais da base de dados\n",
    "\n",
    "\n",
    "previsoes = previsoes_porcentagem.argmax(axis=0)\n",
    "resultados = confusion_matrix(iris.target, previsoes)\n",
    "resultados"
   ]
  },
  {
   "cell_type": "code",
   "execution_count": 6,
   "id": "1971c5d5-a9cf-4cd5-8501-6726f73412a0",
   "metadata": {},
   "outputs": [],
   "source": [
    "# AGRUPAMENTO COM K-MEDOIDS, p8"
   ]
  },
  {
   "cell_type": "code",
   "execution_count": null,
   "id": "3722b476-44a8-4f62-99ad-ad3c262ed9c0",
   "metadata": {},
   "outputs": [],
   "source": [
    "# Instalação de py clustering\n",
    "!pip install pyclustering"
   ]
  },
  {
   "cell_type": "code",
   "execution_count": 1,
   "id": "c55c3cd0-858c-4026-99e4-2ba74f721e82",
   "metadata": {},
   "outputs": [],
   "source": [
    "# Importação das bibliotecas\n",
    "from sklearn import datasets\n",
    "from sklearn.metrics import confusion_matrix\n",
    "import numpy as np\n",
    "from pyclustering.cluster.kmedoids import kmedoids\n",
    "from pyclustering.cluster import cluster_visualizer"
   ]
  },
  {
   "cell_type": "code",
   "execution_count": 4,
   "id": "171cdb86-f403-4730-9cfa-d8475e682028",
   "metadata": {},
   "outputs": [],
   "source": [
    "# Carregamento da base de dados\n",
    "\n",
    "\n",
    "iris = datasets.load_iris()"
   ]
  },
  {
   "cell_type": "code",
   "execution_count": 16,
   "id": "6b19c5d4-d53a-4d19-be05-dcd74cee9cf7",
   "metadata": {},
   "outputs": [
    {
     "data": {
      "text/plain": [
       "array([0, 0, 0, 0, 0, 0, 0, 0, 0, 0, 0, 0, 0, 0, 0, 0, 0, 0, 0, 0, 0, 0,\n",
       "       0, 0, 0, 0, 0, 0, 0, 0, 0, 0, 0, 0, 0, 0, 0, 0, 0, 0, 0, 0, 0, 0,\n",
       "       0, 0, 0, 0, 0, 0, 1, 1, 1, 1, 1, 1, 1, 1, 1, 1, 1, 1, 1, 1, 1, 1,\n",
       "       1, 1, 1, 1, 1, 1, 1, 1, 1, 1, 1, 1, 1, 1, 1, 1, 1, 1, 1, 1, 1, 1,\n",
       "       1, 1, 1, 1, 1, 1, 1, 1, 1, 1, 1, 1, 2, 2, 2, 2, 2, 2, 2, 2, 2, 2,\n",
       "       2, 2, 2, 2, 2, 2, 2, 2, 2, 2, 2, 2, 2, 2, 2, 2, 2, 2, 2, 2, 2, 2,\n",
       "       2, 2, 2, 2, 2, 2, 2, 2, 2, 2, 2, 2, 2, 2, 2, 2, 2, 2])"
      ]
     },
     "execution_count": 16,
     "metadata": {},
     "output_type": "execute_result"
    }
   ],
   "source": [
    "iris.target"
   ]
  },
  {
   "cell_type": "code",
   "execution_count": 15,
   "id": "036f7097-7045-49a7-9b21-53db036f2802",
   "metadata": {},
   "outputs": [
    {
     "data": {
      "text/plain": [
       "array([[5.1, 3.5, 1.4, 0.2],\n",
       "       [4.9, 3. , 1.4, 0.2],\n",
       "       [4.7, 3.2, 1.3, 0.2],\n",
       "       [4.6, 3.1, 1.5, 0.2],\n",
       "       [5. , 3.6, 1.4, 0.2]])"
      ]
     },
     "execution_count": 15,
     "metadata": {},
     "output_type": "execute_result"
    }
   ],
   "source": [
    "iris.data[0:5,:]"
   ]
  },
  {
   "cell_type": "code",
   "execution_count": 22,
   "id": "a8c34bab-03ef-421a-a70b-89ce25707954",
   "metadata": {},
   "outputs": [],
   "source": [
    "# Configuração dos parâmetros do k-medóids, utilizando as duas primeiras colunas da base de dados, por causa da visualização apenas\n",
    "# 3, 12 e 20 são índices aleatórios de registros da base de dados (inicialização)\n",
    "\n",
    "\n",
    "cluster = kmedoids(iris.data[:, 0:2], [3, 12, 20])"
   ]
  },
  {
   "cell_type": "code",
   "execution_count": 23,
   "id": "44641872-2245-46f1-9f30-dfa0b1eef9f3",
   "metadata": {},
   "outputs": [
    {
     "data": {
      "text/plain": [
       "[3, 12, 20]"
      ]
     },
     "execution_count": 23,
     "metadata": {},
     "output_type": "execute_result"
    }
   ],
   "source": [
    "# Visualização dos pontos escolhidos (3, 12 e 20)\n",
    "\n",
    "\n",
    "cluster.get_medoids()"
   ]
  },
  {
   "cell_type": "code",
   "execution_count": 25,
   "id": "ed693cba-a23d-4c38-b089-d5edf7588d08",
   "metadata": {},
   "outputs": [
    {
     "data": {
      "text/plain": [
       "[112, 82, 7]"
      ]
     },
     "execution_count": 25,
     "metadata": {},
     "output_type": "execute_result"
    }
   ],
   "source": [
    "# Aplicação do algoritmo para o agrupamento, abtenção das previsões (grupo de cada registro) e visualização dos medoids\n",
    "\n",
    "\n",
    "cluster.process()\n",
    "previsoes = cluster.get_clusters()\n",
    "medoids = cluster.get_medoids()\n",
    "previsoes\n",
    "medoids"
   ]
  },
  {
   "cell_type": "code",
   "execution_count": 26,
   "id": "b896d7ef-70ba-43e4-b2ce-7ed6700a630f",
   "metadata": {},
   "outputs": [
    {
     "data": {
      "image/png": "[encoded data removed]",
      "text/plain": [
       "<Figure size 640x480 with 1 Axes>"
      ]
     },
     "metadata": {},
     "output_type": "display_data"
    },
    {
     "data": {
      "image/png": "[encoded data removed]",
      "text/plain": [
       "<Figure size 640x480 with 1 Axes>"
      ]
     },
     "execution_count": 26,
     "metadata": {},
     "output_type": "execute_result"
    }
   ],
   "source": [
    "# Visualização do agrupamento (gráfico)\n",
    "\n",
    "\n",
    "v = cluster_visualizer()\n",
    "v.append_clusters(previsoes, iris.data[:, 0:2])\n",
    "v.append_cluster(medoids, data = iris.data[:, 0:2], marker = '*', markersize = 20)\n",
    "v.show()"
   ]
  },
  {
   "cell_type": "code",
   "execution_count": 28,
   "id": "0b63a757-eb3f-4839-a470-55d798bbb7a4",
   "metadata": {},
   "outputs": [],
   "source": [
    "# Código para criar duas listas.\n",
    "# Uma com os grupos reais da base de dados e outra com os valores dos grupos\n",
    "# Utilizado posteriormente para visualização da matriz de contingência\n",
    "\n",
    "lista_previsoes = []\n",
    "lista_real = []\n",
    "\n",
    "for i in range(len(previsoes)):\n",
    "    for j in range(len(previsoes[i])):\n",
    "        lista_previsoes.append(i)\n",
    "        lista_real.append(iris.target[previsoes[i][j]])\n"
   ]
  },
  {
   "cell_type": "code",
   "execution_count": 33,
   "id": "69a2b37b-d10b-4c34-8f6b-5437c81cf729",
   "metadata": {},
   "outputs": [
    {
     "data": {
      "text/plain": [
       "array([[ 0,  0, 50],\n",
       "       [12, 38,  0],\n",
       "       [35, 14,  1]], dtype=int64)"
      ]
     },
     "execution_count": 33,
     "metadata": {},
     "output_type": "execute_result"
    }
   ],
   "source": [
    "# Geração da matriz de contingência, comparando os grupos reais com os grupos previstos\n",
    "\n",
    "\n",
    "lista_previsoes = np.asarray(lista_previsoes)\n",
    "lista_real = np.asarray(lista_real)\n",
    "resultados = confusion_matrix(lista_real, lista_previsoes)\n",
    "resultados"
   ]
  },
  {
   "cell_type": "code",
   "execution_count": 1,
   "id": "3879d3c2-e44d-4292-a30d-585adc812a0a",
   "metadata": {},
   "outputs": [],
   "source": [
    "# REGRAS DE ASSOCIAÇÃO p,9 Obs:?"
   ]
  },
  {
   "cell_type": "code",
   "execution_count": 9,
   "id": "c2a772df-d4c4-4efb-b126-1946385c2f50",
   "metadata": {},
   "outputs": [
    {
     "name": "stdout",
     "output_type": "stream",
     "text": [
      "Requirement already satisfied: apyori in c:\\users\\ricar\\anaconda3\\lib\\site-packages (1.1.2)\n"
     ]
    }
   ],
   "source": [
    "# Instalação da biblioteca apyori\n",
    "\n",
    "!pip install apyori"
   ]
  },
  {
   "cell_type": "code",
   "execution_count": 11,
   "id": "9d3fb893-75de-4e66-a699-d1d9c0ecf5d4",
   "metadata": {},
   "outputs": [],
   "source": [
    "# Importação das bibliotecas\n",
    "\n",
    "import pandas as pd\n",
    "from apyori import apriori\n",
    "\n",
    "# Obs: \" apriori \" \n",
    "# algoritmo de mineração de associação que é usado para encontrar regras de associação entre conjuntos de itens.\n",
    "\n",
    "# Os parâmetros utilizados na operação apriori são os seguintes:\n",
    "    \n",
    "#     1. transacoes: Um conjunto de transações, onde cada transação é uma lista de itens.\n",
    "#     1. min_support: O suporte de uma regra é a porcentagem de transações que contém a regra.\n",
    "#     1. min_confidence: A confiança de uma regra é a probabilidade de que, se um item estiver presente em uma transação, o outro item também estará presente.\n",
    "#     1. min_length: O comprimento mínimo para uma regra. O comprimento de uma regra é o número de itens na regra.\n",
    "    \n",
    "# A operação apriori retorna um objeto AprioriResults, que contém as regras de associação encontradas pelo algoritmo. \n",
    "# Cada regra é representada por um objeto AssociationRule, que contém as seguintes propriedades:\n",
    "\n",
    "#     1. antecedent: O conjunto de itens antecedente da regra.\n",
    "#     2. consequent: O conjunto de itens consequente da regra.\n",
    "#     3. support: O suporte da regra.\n",
    "#     4. confidence: A confiança da regra.\n",
    "#     5. lift: O lift da regra.\n",
    "    \n",
    "# O lift de uma regra é uma medida de quão forte a associação entre o antecedente e o consequente é. \n",
    "# Um lift maior indica uma associação mais forte."
   ]
  },
  {
   "cell_type": "code",
   "execution_count": 13,
   "id": "fdd720f7-41d3-40a2-aff8-d884784b9907",
   "metadata": {},
   "outputs": [
    {
     "data": {
      "text/html": [
       "<div>\n",
       "<style scoped>\n",
       "    .dataframe tbody tr th:only-of-type {\n",
       "        vertical-align: middle;\n",
       "    }\n",
       "\n",
       "    .dataframe tbody tr th {\n",
       "        vertical-align: top;\n",
       "    }\n",
       "\n",
       "    .dataframe thead th {\n",
       "        text-align: right;\n",
       "    }\n",
       "</style>\n",
       "<table border=\"1\" class=\"dataframe\">\n",
       "  <thead>\n",
       "    <tr style=\"text-align: right;\">\n",
       "      <th></th>\n",
       "      <th>0</th>\n",
       "      <th>1</th>\n",
       "      <th>2</th>\n",
       "    </tr>\n",
       "  </thead>\n",
       "  <tbody>\n",
       "    <tr>\n",
       "      <th>0</th>\n",
       "      <td>Cerveja</td>\n",
       "      <td>Pizza</td>\n",
       "      <td>Sorvete</td>\n",
       "    </tr>\n",
       "    <tr>\n",
       "      <th>1</th>\n",
       "      <td>Pizza</td>\n",
       "      <td>Sorvete</td>\n",
       "      <td>NaN</td>\n",
       "    </tr>\n",
       "    <tr>\n",
       "      <th>2</th>\n",
       "      <td>Cerveja</td>\n",
       "      <td>Pizza</td>\n",
       "      <td>NaN</td>\n",
       "    </tr>\n",
       "    <tr>\n",
       "      <th>3</th>\n",
       "      <td>Cerveja</td>\n",
       "      <td>Pizza</td>\n",
       "      <td>Sorvete</td>\n",
       "    </tr>\n",
       "    <tr>\n",
       "      <th>4</th>\n",
       "      <td>Cerveja</td>\n",
       "      <td>Pizza</td>\n",
       "      <td>NaN</td>\n",
       "    </tr>\n",
       "    <tr>\n",
       "      <th>5</th>\n",
       "      <td>Pizza</td>\n",
       "      <td>NaN</td>\n",
       "      <td>NaN</td>\n",
       "    </tr>\n",
       "  </tbody>\n",
       "</table>\n",
       "</div>"
      ],
      "text/plain": [
       "         0        1        2\n",
       "0  Cerveja    Pizza  Sorvete\n",
       "1    Pizza  Sorvete      NaN\n",
       "2  Cerveja    Pizza      NaN\n",
       "3  Cerveja    Pizza  Sorvete\n",
       "4  Cerveja    Pizza      NaN\n",
       "5    Pizza      NaN      NaN"
      ]
     },
     "execution_count": 13,
     "metadata": {},
     "output_type": "execute_result"
    }
   ],
   "source": [
    "# Leitura das transações\n",
    "\n",
    "\n",
    "dados = pd.read_csv('transacoes.txt', header = None)\n",
    "dados"
   ]
  },
  {
   "cell_type": "code",
   "execution_count": 14,
   "id": "12e3352b-7ebc-4c53-81fc-dfa49e5b39dc",
   "metadata": {},
   "outputs": [
    {
     "data": {
      "text/plain": [
       "[['Cerveja', 'Pizza', 'Sorvete'],\n",
       " ['Pizza', 'Sorvete', 'nan'],\n",
       " ['Cerveja', 'Pizza', 'nan'],\n",
       " ['Cerveja', 'Pizza', 'Sorvete'],\n",
       " ['Cerveja', 'Pizza', 'nan'],\n",
       " ['Pizza', 'nan', 'nan']]"
      ]
     },
     "execution_count": 14,
     "metadata": {},
     "output_type": "execute_result"
    }
   ],
   "source": [
    "# Transformação para o formato lista (exigido pela biblioteca apryori) \n",
    "# 6 é a quantidade de transações na base de dados\n",
    "# 3 é o nº de itens por transação\n",
    "\n",
    "\n",
    "transacoes = []\n",
    "for i in range(0, 6):\n",
    "    transacoes.append([str(dados.values[i, j]) for j in range(0, 3)])\n",
    "transacoes"
   ]
  },
  {
   "cell_type": "code",
   "execution_count": 20,
   "id": "40611605-4b3a-4672-a3ab-20ab5b6f0930",
   "metadata": {},
   "outputs": [],
   "source": [
    "# Execução do algoritmo apriori para geração das regras de associação, defininfo os parâmetros de suporte e confiança\n",
    "\n",
    "\n",
    "regras = apriori(transacoes, min_support = 0.5, min_confidence = 0.5, min_lenght = 2)"
   ]
  },
  {
   "cell_type": "code",
   "execution_count": null,
   "id": "57e6b864-cd97-4ed4-a620-a9d596a2916b",
   "metadata": {},
   "outputs": [],
   "source": [
    "# Criação da nova variável para armazenar somente as regras de associação\n",
    "\n",
    "\n",
    "resultados = list(regras)\n",
    "print(resultados[0])\n",
    "resultados"
   ]
  },
  {
   "cell_type": "code",
   "execution_count": null,
   "id": "6598bb4e-75f3-4163-b1f4-da5ad0d3ae28",
   "metadata": {},
   "outputs": [],
   "source": [
    "# Criação da nova variável, percorrendo a variável anterior para uma melhor visualização dos resultados\n",
    "\n",
    "\n",
    "resultados2 = [list(x) for x in resultados]\n",
    "resultados2"
   ]
  },
  {
   "cell_type": "code",
   "execution_count": null,
   "id": "19243332-047b-47b1-b7ad-e839f6292b3b",
   "metadata": {},
   "outputs": [],
   "source": [
    "# Criação de outra variável para a visualização das regras ficar mais fácil para o usuário,\n",
    "# Adicionando as regras encontradas na variável resultados2\n",
    "\n",
    "    \n",
    "resultados3 = []\n",
    "for j in range(0, 7):\n",
    "    resultados3.append([list(x) for x in resultados2[j][2]])\n",
    "\n",
    "resultados3"
   ]
  },
  {
   "cell_type": "code",
   "execution_count": null,
   "id": "ebf72807-b302-4c39-ae54-7af65cd12ad1",
   "metadata": {},
   "outputs": [],
   "source": [
    "# Obs: Pulei o \" Eclat \" para estudar posteriormente\n",
    "\n",
    "# Dar ao menos uma lida para saber do que se trata"
   ]
  }
 ],
 "metadata": {
  "kernelspec": {
   "display_name": "Python 3 (ipykernel)",
   "language": "python",
   "name": "python3"
  },
  "language_info": {
   "codemirror_mode": {
    "name": "ipython",
    "version": 3
   },
   "file_extension": ".py",
   "mimetype": "text/x-python",
   "name": "python",
   "nbconvert_exporter": "python",
   "pygments_lexer": "ipython3",
   "version": "3.10.9"
  }
 },
 "nbformat": 4,
 "nbformat_minor": 5
}
